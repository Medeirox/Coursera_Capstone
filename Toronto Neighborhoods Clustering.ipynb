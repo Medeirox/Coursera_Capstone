{
 "cells": [
  {
   "cell_type": "markdown",
   "metadata": {},
   "source": [
    "<img align= \"center\" src=\"data:image/svg+xml;base64,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\" width=\"240\" height=\"240\" align=\"left\"/>\n",
    "\n",
    "<br><br>\n",
    "\n",
    "<h1><center>Applied Data Science Capstone Course</center></h1>\n",
    "\n",
    "## Week 3 Assignment: 'Segmenting and Clustering Neighborhoods in Toronto'\n",
    "\n",
    "## Author: Diego Medeiros\n",
    "\n",
    "### GitHub: https://github.com/medeirox\n"
   ]
  },
  {
   "cell_type": "markdown",
   "metadata": {},
   "source": [
    "## Table of Contents\n",
    "\n",
    "<div class=\"alert alert-block alert-info\" style=\"margin-top: 20px\">\n",
    "\n",
    "<font size = 3>\n",
    "\n",
    "1. <a href=\"#item1\">Data Scraping of Toronto's Neighborhood Data</a>\n",
    "\n",
    "2. <a href=\"#item2\">Collecting Longitude and Latitude from GeoPy</a>\n",
    "\n",
    "3. <a href=\"#item3\">Analyze Each Neighborhood</a>\n",
    "\n",
    "</font>\n",
    "</div>"
   ]
  },
  {
   "cell_type": "markdown",
   "metadata": {},
   "source": [
    "<a id='item1'></a>"
   ]
  },
  {
   "cell_type": "markdown",
   "metadata": {},
   "source": [
    "## Data Scraping of Toronto's Neighborhood Data"
   ]
  },
  {
   "cell_type": "markdown",
   "metadata": {},
   "source": [
    "First we'll collect data from Wikipedia (https://en.wikipedia.org/wiki/List_of_postal_codes_of_Canada:_M) and process it to fit in a DataFrame using Pandas"
   ]
  },
  {
   "cell_type": "code",
   "execution_count": 1,
   "metadata": {},
   "outputs": [],
   "source": [
    "import pandas as pd"
   ]
  },
  {
   "cell_type": "code",
   "execution_count": 2,
   "metadata": {},
   "outputs": [],
   "source": [
    "d = pd.read_html('https://en.wikipedia.org/wiki/List_of_postal_codes_of_Canada:_M')"
   ]
  },
  {
   "cell_type": "code",
   "execution_count": 3,
   "metadata": {},
   "outputs": [
    {
     "data": {
      "text/html": [
       "<div>\n",
       "<style scoped>\n",
       "    .dataframe tbody tr th:only-of-type {\n",
       "        vertical-align: middle;\n",
       "    }\n",
       "\n",
       "    .dataframe tbody tr th {\n",
       "        vertical-align: top;\n",
       "    }\n",
       "\n",
       "    .dataframe thead th {\n",
       "        text-align: right;\n",
       "    }\n",
       "</style>\n",
       "<table border=\"1\" class=\"dataframe\">\n",
       "  <thead>\n",
       "    <tr style=\"text-align: right;\">\n",
       "      <th></th>\n",
       "      <th>Postcode</th>\n",
       "      <th>Borough</th>\n",
       "      <th>Neighbourhood</th>\n",
       "    </tr>\n",
       "  </thead>\n",
       "  <tbody>\n",
       "    <tr>\n",
       "      <th>0</th>\n",
       "      <td>M1A</td>\n",
       "      <td>Not assigned</td>\n",
       "      <td>Not assigned</td>\n",
       "    </tr>\n",
       "    <tr>\n",
       "      <th>1</th>\n",
       "      <td>M2A</td>\n",
       "      <td>Not assigned</td>\n",
       "      <td>Not assigned</td>\n",
       "    </tr>\n",
       "    <tr>\n",
       "      <th>2</th>\n",
       "      <td>M3A</td>\n",
       "      <td>North York</td>\n",
       "      <td>Parkwoods</td>\n",
       "    </tr>\n",
       "    <tr>\n",
       "      <th>3</th>\n",
       "      <td>M4A</td>\n",
       "      <td>North York</td>\n",
       "      <td>Victoria Village</td>\n",
       "    </tr>\n",
       "    <tr>\n",
       "      <th>4</th>\n",
       "      <td>M5A</td>\n",
       "      <td>Downtown Toronto</td>\n",
       "      <td>Harbourfront</td>\n",
       "    </tr>\n",
       "    <tr>\n",
       "      <th>5</th>\n",
       "      <td>M5A</td>\n",
       "      <td>Downtown Toronto</td>\n",
       "      <td>Regent Park</td>\n",
       "    </tr>\n",
       "    <tr>\n",
       "      <th>6</th>\n",
       "      <td>M6A</td>\n",
       "      <td>North York</td>\n",
       "      <td>Lawrence Heights</td>\n",
       "    </tr>\n",
       "    <tr>\n",
       "      <th>7</th>\n",
       "      <td>M6A</td>\n",
       "      <td>North York</td>\n",
       "      <td>Lawrence Manor</td>\n",
       "    </tr>\n",
       "    <tr>\n",
       "      <th>8</th>\n",
       "      <td>M7A</td>\n",
       "      <td>Queen's Park</td>\n",
       "      <td>Not assigned</td>\n",
       "    </tr>\n",
       "    <tr>\n",
       "      <th>9</th>\n",
       "      <td>M8A</td>\n",
       "      <td>Not assigned</td>\n",
       "      <td>Not assigned</td>\n",
       "    </tr>\n",
       "  </tbody>\n",
       "</table>\n",
       "</div>"
      ],
      "text/plain": [
       "  Postcode           Borough     Neighbourhood\n",
       "0      M1A      Not assigned      Not assigned\n",
       "1      M2A      Not assigned      Not assigned\n",
       "2      M3A        North York         Parkwoods\n",
       "3      M4A        North York  Victoria Village\n",
       "4      M5A  Downtown Toronto      Harbourfront\n",
       "5      M5A  Downtown Toronto       Regent Park\n",
       "6      M6A        North York  Lawrence Heights\n",
       "7      M6A        North York    Lawrence Manor\n",
       "8      M7A      Queen's Park      Not assigned\n",
       "9      M8A      Not assigned      Not assigned"
      ]
     },
     "execution_count": 3,
     "metadata": {},
     "output_type": "execute_result"
    }
   ],
   "source": [
    "df = d[0]\n",
    "df.head(10)"
   ]
  },
  {
   "cell_type": "markdown",
   "metadata": {},
   "source": [
    "### Assign Borough to Neighbourhoods cointaining \"Not assigned\" information and drop rows with \"Not assigned\" Borough"
   ]
  },
  {
   "cell_type": "code",
   "execution_count": 4,
   "metadata": {},
   "outputs": [
    {
     "data": {
      "text/html": [
       "<div>\n",
       "<style scoped>\n",
       "    .dataframe tbody tr th:only-of-type {\n",
       "        vertical-align: middle;\n",
       "    }\n",
       "\n",
       "    .dataframe tbody tr th {\n",
       "        vertical-align: top;\n",
       "    }\n",
       "\n",
       "    .dataframe thead th {\n",
       "        text-align: right;\n",
       "    }\n",
       "</style>\n",
       "<table border=\"1\" class=\"dataframe\">\n",
       "  <thead>\n",
       "    <tr style=\"text-align: right;\">\n",
       "      <th></th>\n",
       "      <th>Postcode</th>\n",
       "      <th>Borough</th>\n",
       "      <th>Neighbourhood</th>\n",
       "    </tr>\n",
       "  </thead>\n",
       "  <tbody>\n",
       "    <tr>\n",
       "      <th>2</th>\n",
       "      <td>M3A</td>\n",
       "      <td>North York</td>\n",
       "      <td>Parkwoods</td>\n",
       "    </tr>\n",
       "    <tr>\n",
       "      <th>3</th>\n",
       "      <td>M4A</td>\n",
       "      <td>North York</td>\n",
       "      <td>Victoria Village</td>\n",
       "    </tr>\n",
       "    <tr>\n",
       "      <th>4</th>\n",
       "      <td>M5A</td>\n",
       "      <td>Downtown Toronto</td>\n",
       "      <td>Harbourfront</td>\n",
       "    </tr>\n",
       "    <tr>\n",
       "      <th>5</th>\n",
       "      <td>M5A</td>\n",
       "      <td>Downtown Toronto</td>\n",
       "      <td>Regent Park</td>\n",
       "    </tr>\n",
       "    <tr>\n",
       "      <th>6</th>\n",
       "      <td>M6A</td>\n",
       "      <td>North York</td>\n",
       "      <td>Lawrence Heights</td>\n",
       "    </tr>\n",
       "    <tr>\n",
       "      <th>7</th>\n",
       "      <td>M6A</td>\n",
       "      <td>North York</td>\n",
       "      <td>Lawrence Manor</td>\n",
       "    </tr>\n",
       "    <tr>\n",
       "      <th>8</th>\n",
       "      <td>M7A</td>\n",
       "      <td>Queen's Park</td>\n",
       "      <td>Queen's Park</td>\n",
       "    </tr>\n",
       "    <tr>\n",
       "      <th>10</th>\n",
       "      <td>M9A</td>\n",
       "      <td>Etobicoke</td>\n",
       "      <td>Islington Avenue</td>\n",
       "    </tr>\n",
       "    <tr>\n",
       "      <th>11</th>\n",
       "      <td>M1B</td>\n",
       "      <td>Scarborough</td>\n",
       "      <td>Rouge</td>\n",
       "    </tr>\n",
       "    <tr>\n",
       "      <th>12</th>\n",
       "      <td>M1B</td>\n",
       "      <td>Scarborough</td>\n",
       "      <td>Malvern</td>\n",
       "    </tr>\n",
       "  </tbody>\n",
       "</table>\n",
       "</div>"
      ],
      "text/plain": [
       "   Postcode           Borough     Neighbourhood\n",
       "2       M3A        North York         Parkwoods\n",
       "3       M4A        North York  Victoria Village\n",
       "4       M5A  Downtown Toronto      Harbourfront\n",
       "5       M5A  Downtown Toronto       Regent Park\n",
       "6       M6A        North York  Lawrence Heights\n",
       "7       M6A        North York    Lawrence Manor\n",
       "8       M7A      Queen's Park      Queen's Park\n",
       "10      M9A         Etobicoke  Islington Avenue\n",
       "11      M1B       Scarborough             Rouge\n",
       "12      M1B       Scarborough           Malvern"
      ]
     },
     "execution_count": 4,
     "metadata": {},
     "output_type": "execute_result"
    }
   ],
   "source": [
    "df[df['Neighbourhood'].str.contains('Not assigned')] = df[['Postcode','Borough','Borough']]\n",
    "df = df[df['Borough']!='Not assigned']\n",
    "df.head(10)"
   ]
  },
  {
   "cell_type": "markdown",
   "metadata": {},
   "source": [
    " ### Process the cells that have an assigned borough. Ignore cells with a borough that is Not assigned."
   ]
  },
  {
   "cell_type": "code",
   "execution_count": 5,
   "metadata": {},
   "outputs": [
    {
     "data": {
      "text/html": [
       "<div>\n",
       "<style scoped>\n",
       "    .dataframe tbody tr th:only-of-type {\n",
       "        vertical-align: middle;\n",
       "    }\n",
       "\n",
       "    .dataframe tbody tr th {\n",
       "        vertical-align: top;\n",
       "    }\n",
       "\n",
       "    .dataframe thead th {\n",
       "        text-align: right;\n",
       "    }\n",
       "</style>\n",
       "<table border=\"1\" class=\"dataframe\">\n",
       "  <thead>\n",
       "    <tr style=\"text-align: right;\">\n",
       "      <th></th>\n",
       "      <th>PostalCode</th>\n",
       "      <th>Borough</th>\n",
       "      <th>Neighbourhood</th>\n",
       "    </tr>\n",
       "  </thead>\n",
       "  <tbody>\n",
       "    <tr>\n",
       "      <th>2</th>\n",
       "      <td>M3A</td>\n",
       "      <td>North York</td>\n",
       "      <td>Parkwoods</td>\n",
       "    </tr>\n",
       "    <tr>\n",
       "      <th>3</th>\n",
       "      <td>M4A</td>\n",
       "      <td>North York</td>\n",
       "      <td>Victoria Village</td>\n",
       "    </tr>\n",
       "    <tr>\n",
       "      <th>4</th>\n",
       "      <td>M5A</td>\n",
       "      <td>Downtown Toronto</td>\n",
       "      <td>Harbourfront</td>\n",
       "    </tr>\n",
       "    <tr>\n",
       "      <th>5</th>\n",
       "      <td>M5A</td>\n",
       "      <td>Downtown Toronto</td>\n",
       "      <td>Regent Park</td>\n",
       "    </tr>\n",
       "    <tr>\n",
       "      <th>6</th>\n",
       "      <td>M6A</td>\n",
       "      <td>North York</td>\n",
       "      <td>Lawrence Heights</td>\n",
       "    </tr>\n",
       "    <tr>\n",
       "      <th>7</th>\n",
       "      <td>M6A</td>\n",
       "      <td>North York</td>\n",
       "      <td>Lawrence Manor</td>\n",
       "    </tr>\n",
       "    <tr>\n",
       "      <th>8</th>\n",
       "      <td>M7A</td>\n",
       "      <td>Queen's Park</td>\n",
       "      <td>Queen's Park</td>\n",
       "    </tr>\n",
       "    <tr>\n",
       "      <th>10</th>\n",
       "      <td>M9A</td>\n",
       "      <td>Etobicoke</td>\n",
       "      <td>Islington Avenue</td>\n",
       "    </tr>\n",
       "    <tr>\n",
       "      <th>11</th>\n",
       "      <td>M1B</td>\n",
       "      <td>Scarborough</td>\n",
       "      <td>Rouge</td>\n",
       "    </tr>\n",
       "    <tr>\n",
       "      <th>12</th>\n",
       "      <td>M1B</td>\n",
       "      <td>Scarborough</td>\n",
       "      <td>Malvern</td>\n",
       "    </tr>\n",
       "  </tbody>\n",
       "</table>\n",
       "</div>"
      ],
      "text/plain": [
       "   PostalCode           Borough     Neighbourhood\n",
       "2         M3A        North York         Parkwoods\n",
       "3         M4A        North York  Victoria Village\n",
       "4         M5A  Downtown Toronto      Harbourfront\n",
       "5         M5A  Downtown Toronto       Regent Park\n",
       "6         M6A        North York  Lawrence Heights\n",
       "7         M6A        North York    Lawrence Manor\n",
       "8         M7A      Queen's Park      Queen's Park\n",
       "10        M9A         Etobicoke  Islington Avenue\n",
       "11        M1B       Scarborough             Rouge\n",
       "12        M1B       Scarborough           Malvern"
      ]
     },
     "execution_count": 5,
     "metadata": {},
     "output_type": "execute_result"
    }
   ],
   "source": [
    "df_clean = df[df['Borough'] != 'Not assigned']\n",
    "df_clean.columns = ['PostalCode', 'Borough', 'Neighbourhood']\n",
    "df_clean.head(10)"
   ]
  },
  {
   "cell_type": "markdown",
   "metadata": {},
   "source": [
    "### Aggregate by Postcode and Borough, appending all Neighbourhoods from a given Borough in a single row"
   ]
  },
  {
   "cell_type": "code",
   "execution_count": 6,
   "metadata": {},
   "outputs": [
    {
     "data": {
      "text/html": [
       "<div>\n",
       "<style scoped>\n",
       "    .dataframe tbody tr th:only-of-type {\n",
       "        vertical-align: middle;\n",
       "    }\n",
       "\n",
       "    .dataframe tbody tr th {\n",
       "        vertical-align: top;\n",
       "    }\n",
       "\n",
       "    .dataframe thead th {\n",
       "        text-align: right;\n",
       "    }\n",
       "</style>\n",
       "<table border=\"1\" class=\"dataframe\">\n",
       "  <thead>\n",
       "    <tr style=\"text-align: right;\">\n",
       "      <th></th>\n",
       "      <th>PostalCode</th>\n",
       "      <th>Borough</th>\n",
       "      <th>Neighbourhood</th>\n",
       "    </tr>\n",
       "  </thead>\n",
       "  <tbody>\n",
       "    <tr>\n",
       "      <th>0</th>\n",
       "      <td>M1B</td>\n",
       "      <td>Scarborough</td>\n",
       "      <td>Rouge, Malvern</td>\n",
       "    </tr>\n",
       "    <tr>\n",
       "      <th>1</th>\n",
       "      <td>M1C</td>\n",
       "      <td>Scarborough</td>\n",
       "      <td>Highland Creek, Rouge Hill, Port Union</td>\n",
       "    </tr>\n",
       "    <tr>\n",
       "      <th>2</th>\n",
       "      <td>M1E</td>\n",
       "      <td>Scarborough</td>\n",
       "      <td>Guildwood, Morningside, West Hill</td>\n",
       "    </tr>\n",
       "    <tr>\n",
       "      <th>3</th>\n",
       "      <td>M1G</td>\n",
       "      <td>Scarborough</td>\n",
       "      <td>Woburn</td>\n",
       "    </tr>\n",
       "    <tr>\n",
       "      <th>4</th>\n",
       "      <td>M1H</td>\n",
       "      <td>Scarborough</td>\n",
       "      <td>Cedarbrae</td>\n",
       "    </tr>\n",
       "  </tbody>\n",
       "</table>\n",
       "</div>"
      ],
      "text/plain": [
       "  PostalCode      Borough                           Neighbourhood\n",
       "0        M1B  Scarborough                          Rouge, Malvern\n",
       "1        M1C  Scarborough  Highland Creek, Rouge Hill, Port Union\n",
       "2        M1E  Scarborough       Guildwood, Morningside, West Hill\n",
       "3        M1G  Scarborough                                  Woburn\n",
       "4        M1H  Scarborough                               Cedarbrae"
      ]
     },
     "execution_count": 6,
     "metadata": {},
     "output_type": "execute_result"
    }
   ],
   "source": [
    "pc_groups = df_clean.groupby(['PostalCode', 'Borough']).agg(lambda x: ', '.join(x))\n",
    "pc_groups.reset_index(inplace=True)\n",
    "pc_groups.head()"
   ]
  },
  {
   "cell_type": "markdown",
   "metadata": {},
   "source": [
    "### Checking DataFrame information"
   ]
  },
  {
   "cell_type": "code",
   "execution_count": 7,
   "metadata": {},
   "outputs": [
    {
     "data": {
      "text/plain": [
       "(103, 3)"
      ]
     },
     "execution_count": 7,
     "metadata": {},
     "output_type": "execute_result"
    }
   ],
   "source": [
    "pc_groups.shape"
   ]
  },
  {
   "cell_type": "code",
   "execution_count": 8,
   "metadata": {},
   "outputs": [
    {
     "name": "stdout",
     "output_type": "stream",
     "text": [
      "<class 'pandas.core.frame.DataFrame'>\n",
      "RangeIndex: 103 entries, 0 to 102\n",
      "Data columns (total 3 columns):\n",
      "PostalCode       103 non-null object\n",
      "Borough          103 non-null object\n",
      "Neighbourhood    103 non-null object\n",
      "dtypes: object(3)\n",
      "memory usage: 2.5+ KB\n"
     ]
    }
   ],
   "source": [
    "pc_groups.info()"
   ]
  },
  {
   "cell_type": "code",
   "execution_count": 9,
   "metadata": {},
   "outputs": [
    {
     "data": {
      "text/html": [
       "<div>\n",
       "<style scoped>\n",
       "    .dataframe tbody tr th:only-of-type {\n",
       "        vertical-align: middle;\n",
       "    }\n",
       "\n",
       "    .dataframe tbody tr th {\n",
       "        vertical-align: top;\n",
       "    }\n",
       "\n",
       "    .dataframe thead th {\n",
       "        text-align: right;\n",
       "    }\n",
       "</style>\n",
       "<table border=\"1\" class=\"dataframe\">\n",
       "  <thead>\n",
       "    <tr style=\"text-align: right;\">\n",
       "      <th></th>\n",
       "      <th>PostalCode</th>\n",
       "      <th>Borough</th>\n",
       "      <th>Neighbourhood</th>\n",
       "    </tr>\n",
       "  </thead>\n",
       "  <tbody>\n",
       "    <tr>\n",
       "      <th>count</th>\n",
       "      <td>103</td>\n",
       "      <td>103</td>\n",
       "      <td>103</td>\n",
       "    </tr>\n",
       "    <tr>\n",
       "      <th>unique</th>\n",
       "      <td>103</td>\n",
       "      <td>11</td>\n",
       "      <td>103</td>\n",
       "    </tr>\n",
       "    <tr>\n",
       "      <th>top</th>\n",
       "      <td>M4G</td>\n",
       "      <td>North York</td>\n",
       "      <td>Northwest</td>\n",
       "    </tr>\n",
       "    <tr>\n",
       "      <th>freq</th>\n",
       "      <td>1</td>\n",
       "      <td>24</td>\n",
       "      <td>1</td>\n",
       "    </tr>\n",
       "  </tbody>\n",
       "</table>\n",
       "</div>"
      ],
      "text/plain": [
       "       PostalCode     Borough Neighbourhood\n",
       "count         103         103           103\n",
       "unique        103          11           103\n",
       "top           M4G  North York     Northwest\n",
       "freq            1          24             1"
      ]
     },
     "execution_count": 9,
     "metadata": {},
     "output_type": "execute_result"
    }
   ],
   "source": [
    "pc_groups.describe()"
   ]
  },
  {
   "cell_type": "markdown",
   "metadata": {},
   "source": [
    "<a id='item2'></a>"
   ]
  },
  {
   "cell_type": "markdown",
   "metadata": {},
   "source": [
    "## Collecting Longitude and Latitude from GeoPy"
   ]
  },
  {
   "cell_type": "code",
   "execution_count": 10,
   "metadata": {},
   "outputs": [
    {
     "name": "stdout",
     "output_type": "stream",
     "text": [
      "Libraries imported.\n"
     ]
    }
   ],
   "source": [
    "#!conda install -c conda-forge geopy --yes\n",
    "from geopy.geocoders import Nominatim # convert an address into latitude and longitude values\n",
    "import requests # library to handle requests\n",
    "from pandas.io.json import json_normalize # tranform JSON file into a pandas dataframe\n",
    "#!conda install -c conda-forge folium --yes\n",
    "import folium # map rendering library\n",
    "\n",
    "print('Libraries imported.')"
   ]
  },
  {
   "cell_type": "markdown",
   "metadata": {},
   "source": [
    "### Initialize Nominatim to collect Latitude and Longitude from locations"
   ]
  },
  {
   "cell_type": "code",
   "execution_count": 11,
   "metadata": {},
   "outputs": [],
   "source": [
    "# Due to problems using the GeoPy package, I'll use the csv provided by the course\n",
    "!wget -q -O 'toronto_postalcodes.csv' https://cocl.us/Geospatial_data"
   ]
  },
  {
   "cell_type": "code",
   "execution_count": 12,
   "metadata": {},
   "outputs": [
    {
     "data": {
      "text/html": [
       "<div>\n",
       "<style scoped>\n",
       "    .dataframe tbody tr th:only-of-type {\n",
       "        vertical-align: middle;\n",
       "    }\n",
       "\n",
       "    .dataframe tbody tr th {\n",
       "        vertical-align: top;\n",
       "    }\n",
       "\n",
       "    .dataframe thead th {\n",
       "        text-align: right;\n",
       "    }\n",
       "</style>\n",
       "<table border=\"1\" class=\"dataframe\">\n",
       "  <thead>\n",
       "    <tr style=\"text-align: right;\">\n",
       "      <th></th>\n",
       "      <th>Latitude</th>\n",
       "      <th>Longitude</th>\n",
       "    </tr>\n",
       "    <tr>\n",
       "      <th>Postal Code</th>\n",
       "      <th></th>\n",
       "      <th></th>\n",
       "    </tr>\n",
       "  </thead>\n",
       "  <tbody>\n",
       "    <tr>\n",
       "      <th>M1B</th>\n",
       "      <td>43.806686</td>\n",
       "      <td>-79.194353</td>\n",
       "    </tr>\n",
       "    <tr>\n",
       "      <th>M1C</th>\n",
       "      <td>43.784535</td>\n",
       "      <td>-79.160497</td>\n",
       "    </tr>\n",
       "    <tr>\n",
       "      <th>M1E</th>\n",
       "      <td>43.763573</td>\n",
       "      <td>-79.188711</td>\n",
       "    </tr>\n",
       "    <tr>\n",
       "      <th>M1G</th>\n",
       "      <td>43.770992</td>\n",
       "      <td>-79.216917</td>\n",
       "    </tr>\n",
       "    <tr>\n",
       "      <th>M1H</th>\n",
       "      <td>43.773136</td>\n",
       "      <td>-79.239476</td>\n",
       "    </tr>\n",
       "  </tbody>\n",
       "</table>\n",
       "</div>"
      ],
      "text/plain": [
       "              Latitude  Longitude\n",
       "Postal Code                      \n",
       "M1B          43.806686 -79.194353\n",
       "M1C          43.784535 -79.160497\n",
       "M1E          43.763573 -79.188711\n",
       "M1G          43.770992 -79.216917\n",
       "M1H          43.773136 -79.239476"
      ]
     },
     "execution_count": 12,
     "metadata": {},
     "output_type": "execute_result"
    }
   ],
   "source": [
    "df_postalcodes = pd.read_csv('toronto_postalcodes.csv')\n",
    "df_postalcodes.set_index('Postal Code', inplace=True)\n",
    "df_postalcodes.head()"
   ]
  },
  {
   "cell_type": "code",
   "execution_count": 13,
   "metadata": {
    "scrolled": true
   },
   "outputs": [],
   "source": [
    "for pc in pc_groups['PostalCode']:\n",
    "    df_postalcodes.loc[pc]"
   ]
  },
  {
   "cell_type": "code",
   "execution_count": 14,
   "metadata": {},
   "outputs": [
    {
     "data": {
      "text/html": [
       "<div>\n",
       "<style scoped>\n",
       "    .dataframe tbody tr th:only-of-type {\n",
       "        vertical-align: middle;\n",
       "    }\n",
       "\n",
       "    .dataframe tbody tr th {\n",
       "        vertical-align: top;\n",
       "    }\n",
       "\n",
       "    .dataframe thead th {\n",
       "        text-align: right;\n",
       "    }\n",
       "</style>\n",
       "<table border=\"1\" class=\"dataframe\">\n",
       "  <thead>\n",
       "    <tr style=\"text-align: right;\">\n",
       "      <th></th>\n",
       "      <th>Latitude</th>\n",
       "      <th>Longitude</th>\n",
       "    </tr>\n",
       "  </thead>\n",
       "  <tbody>\n",
       "    <tr>\n",
       "      <th>M1B</th>\n",
       "      <td>43.806686</td>\n",
       "      <td>-79.194353</td>\n",
       "    </tr>\n",
       "    <tr>\n",
       "      <th>M1C</th>\n",
       "      <td>43.784535</td>\n",
       "      <td>-79.160497</td>\n",
       "    </tr>\n",
       "    <tr>\n",
       "      <th>M1E</th>\n",
       "      <td>43.763573</td>\n",
       "      <td>-79.188711</td>\n",
       "    </tr>\n",
       "    <tr>\n",
       "      <th>M1G</th>\n",
       "      <td>43.770992</td>\n",
       "      <td>-79.216917</td>\n",
       "    </tr>\n",
       "    <tr>\n",
       "      <th>M1H</th>\n",
       "      <td>43.773136</td>\n",
       "      <td>-79.239476</td>\n",
       "    </tr>\n",
       "  </tbody>\n",
       "</table>\n",
       "</div>"
      ],
      "text/plain": [
       "      Latitude  Longitude\n",
       "M1B  43.806686 -79.194353\n",
       "M1C  43.784535 -79.160497\n",
       "M1E  43.763573 -79.188711\n",
       "M1G  43.770992 -79.216917\n",
       "M1H  43.773136 -79.239476"
      ]
     },
     "execution_count": 14,
     "metadata": {},
     "output_type": "execute_result"
    }
   ],
   "source": [
    "import time\n",
    "city = 'Toronto'\n",
    "state = 'ON'\n",
    "\n",
    "address = '{ct}, {st}'.format(ct=city, st=state)\n",
    "\n",
    "# Geolocator failing to get all Postal Codes...\n",
    "#geolocator = Nominatim(user_agent=\"toronto_explorer\")\n",
    "\n",
    "df_latlon = pd.DataFrame(columns=['Latitude','Longitude'])\n",
    "\n",
    "for pc in pc_groups['PostalCode']:\n",
    "    df_latlon=df_latlon.append(df_postalcodes.loc[pc])\n",
    "    \n",
    "#print('The geograpical coordinate of New York City are {}, {}.'.format(latitude, longitude))\n",
    "df_latlon.head()"
   ]
  },
  {
   "cell_type": "code",
   "execution_count": 15,
   "metadata": {},
   "outputs": [
    {
     "name": "stdout",
     "output_type": "stream",
     "text": [
      "Shape of df_latlon: (103, 2)\n",
      "Shape of pc_groups: (103, 3)\n"
     ]
    }
   ],
   "source": [
    "print('Shape of df_latlon: {}'.format(df_latlon.shape))\n",
    "print('Shape of pc_groups: {}'.format(pc_groups.shape))"
   ]
  },
  {
   "cell_type": "code",
   "execution_count": 16,
   "metadata": {},
   "outputs": [],
   "source": [
    "df_latlon.reset_index(inplace=True)\n",
    "pc_groups = pd.concat([pc_groups, df_latlon], axis=1)"
   ]
  },
  {
   "cell_type": "code",
   "execution_count": 17,
   "metadata": {},
   "outputs": [
    {
     "data": {
      "text/html": [
       "<div>\n",
       "<style scoped>\n",
       "    .dataframe tbody tr th:only-of-type {\n",
       "        vertical-align: middle;\n",
       "    }\n",
       "\n",
       "    .dataframe tbody tr th {\n",
       "        vertical-align: top;\n",
       "    }\n",
       "\n",
       "    .dataframe thead th {\n",
       "        text-align: right;\n",
       "    }\n",
       "</style>\n",
       "<table border=\"1\" class=\"dataframe\">\n",
       "  <thead>\n",
       "    <tr style=\"text-align: right;\">\n",
       "      <th></th>\n",
       "      <th>PostalCode</th>\n",
       "      <th>Borough</th>\n",
       "      <th>Neighbourhood</th>\n",
       "      <th>index</th>\n",
       "      <th>Latitude</th>\n",
       "      <th>Longitude</th>\n",
       "    </tr>\n",
       "  </thead>\n",
       "  <tbody>\n",
       "    <tr>\n",
       "      <th>0</th>\n",
       "      <td>M1B</td>\n",
       "      <td>Scarborough</td>\n",
       "      <td>Rouge, Malvern</td>\n",
       "      <td>M1B</td>\n",
       "      <td>43.806686</td>\n",
       "      <td>-79.194353</td>\n",
       "    </tr>\n",
       "    <tr>\n",
       "      <th>1</th>\n",
       "      <td>M1C</td>\n",
       "      <td>Scarborough</td>\n",
       "      <td>Highland Creek, Rouge Hill, Port Union</td>\n",
       "      <td>M1C</td>\n",
       "      <td>43.784535</td>\n",
       "      <td>-79.160497</td>\n",
       "    </tr>\n",
       "    <tr>\n",
       "      <th>2</th>\n",
       "      <td>M1E</td>\n",
       "      <td>Scarborough</td>\n",
       "      <td>Guildwood, Morningside, West Hill</td>\n",
       "      <td>M1E</td>\n",
       "      <td>43.763573</td>\n",
       "      <td>-79.188711</td>\n",
       "    </tr>\n",
       "    <tr>\n",
       "      <th>3</th>\n",
       "      <td>M1G</td>\n",
       "      <td>Scarborough</td>\n",
       "      <td>Woburn</td>\n",
       "      <td>M1G</td>\n",
       "      <td>43.770992</td>\n",
       "      <td>-79.216917</td>\n",
       "    </tr>\n",
       "    <tr>\n",
       "      <th>4</th>\n",
       "      <td>M1H</td>\n",
       "      <td>Scarborough</td>\n",
       "      <td>Cedarbrae</td>\n",
       "      <td>M1H</td>\n",
       "      <td>43.773136</td>\n",
       "      <td>-79.239476</td>\n",
       "    </tr>\n",
       "  </tbody>\n",
       "</table>\n",
       "</div>"
      ],
      "text/plain": [
       "  PostalCode      Borough                           Neighbourhood index  \\\n",
       "0        M1B  Scarborough                          Rouge, Malvern   M1B   \n",
       "1        M1C  Scarborough  Highland Creek, Rouge Hill, Port Union   M1C   \n",
       "2        M1E  Scarborough       Guildwood, Morningside, West Hill   M1E   \n",
       "3        M1G  Scarborough                                  Woburn   M1G   \n",
       "4        M1H  Scarborough                               Cedarbrae   M1H   \n",
       "\n",
       "    Latitude  Longitude  \n",
       "0  43.806686 -79.194353  \n",
       "1  43.784535 -79.160497  \n",
       "2  43.763573 -79.188711  \n",
       "3  43.770992 -79.216917  \n",
       "4  43.773136 -79.239476  "
      ]
     },
     "execution_count": 17,
     "metadata": {},
     "output_type": "execute_result"
    }
   ],
   "source": [
    "pc_groups.head()"
   ]
  },
  {
   "cell_type": "markdown",
   "metadata": {},
   "source": [
    "<a id='item3'></a>"
   ]
  },
  {
   "cell_type": "markdown",
   "metadata": {},
   "source": [
    "## Analyze Each Neighborhood"
   ]
  },
  {
   "cell_type": "code",
   "execution_count": 18,
   "metadata": {},
   "outputs": [],
   "source": [
    "import folium"
   ]
  },
  {
   "cell_type": "markdown",
   "metadata": {},
   "source": [
    "Explore and cluster the neighborhoods in Toronto. You can decide to work with only boroughs that contain the word Toronto and then replicate the same analysis we did to the New York City data. It is up to you."
   ]
  },
  {
   "cell_type": "code",
   "execution_count": 24,
   "metadata": {},
   "outputs": [
    {
     "data": {
      "text/html": [
       "<div>\n",
       "<style scoped>\n",
       "    .dataframe tbody tr th:only-of-type {\n",
       "        vertical-align: middle;\n",
       "    }\n",
       "\n",
       "    .dataframe tbody tr th {\n",
       "        vertical-align: top;\n",
       "    }\n",
       "\n",
       "    .dataframe thead th {\n",
       "        text-align: right;\n",
       "    }\n",
       "</style>\n",
       "<table border=\"1\" class=\"dataframe\">\n",
       "  <thead>\n",
       "    <tr style=\"text-align: right;\">\n",
       "      <th></th>\n",
       "      <th>PostalCode</th>\n",
       "      <th>Borough</th>\n",
       "      <th>Neighbourhood</th>\n",
       "      <th>index</th>\n",
       "      <th>Latitude</th>\n",
       "      <th>Longitude</th>\n",
       "    </tr>\n",
       "  </thead>\n",
       "  <tbody>\n",
       "    <tr>\n",
       "      <th>37</th>\n",
       "      <td>M4E</td>\n",
       "      <td>East Toronto</td>\n",
       "      <td>The Beaches</td>\n",
       "      <td>M4E</td>\n",
       "      <td>43.676357</td>\n",
       "      <td>-79.293031</td>\n",
       "    </tr>\n",
       "    <tr>\n",
       "      <th>41</th>\n",
       "      <td>M4K</td>\n",
       "      <td>East Toronto</td>\n",
       "      <td>The Danforth West, Riverdale</td>\n",
       "      <td>M4K</td>\n",
       "      <td>43.679557</td>\n",
       "      <td>-79.352188</td>\n",
       "    </tr>\n",
       "    <tr>\n",
       "      <th>42</th>\n",
       "      <td>M4L</td>\n",
       "      <td>East Toronto</td>\n",
       "      <td>The Beaches West, India Bazaar</td>\n",
       "      <td>M4L</td>\n",
       "      <td>43.668999</td>\n",
       "      <td>-79.315572</td>\n",
       "    </tr>\n",
       "    <tr>\n",
       "      <th>43</th>\n",
       "      <td>M4M</td>\n",
       "      <td>East Toronto</td>\n",
       "      <td>Studio District</td>\n",
       "      <td>M4M</td>\n",
       "      <td>43.659526</td>\n",
       "      <td>-79.340923</td>\n",
       "    </tr>\n",
       "    <tr>\n",
       "      <th>44</th>\n",
       "      <td>M4N</td>\n",
       "      <td>Central Toronto</td>\n",
       "      <td>Lawrence Park</td>\n",
       "      <td>M4N</td>\n",
       "      <td>43.728020</td>\n",
       "      <td>-79.388790</td>\n",
       "    </tr>\n",
       "    <tr>\n",
       "      <th>45</th>\n",
       "      <td>M4P</td>\n",
       "      <td>Central Toronto</td>\n",
       "      <td>Davisville North</td>\n",
       "      <td>M4P</td>\n",
       "      <td>43.712751</td>\n",
       "      <td>-79.390197</td>\n",
       "    </tr>\n",
       "    <tr>\n",
       "      <th>46</th>\n",
       "      <td>M4R</td>\n",
       "      <td>Central Toronto</td>\n",
       "      <td>North Toronto West</td>\n",
       "      <td>M4R</td>\n",
       "      <td>43.715383</td>\n",
       "      <td>-79.405678</td>\n",
       "    </tr>\n",
       "    <tr>\n",
       "      <th>47</th>\n",
       "      <td>M4S</td>\n",
       "      <td>Central Toronto</td>\n",
       "      <td>Davisville</td>\n",
       "      <td>M4S</td>\n",
       "      <td>43.704324</td>\n",
       "      <td>-79.388790</td>\n",
       "    </tr>\n",
       "    <tr>\n",
       "      <th>48</th>\n",
       "      <td>M4T</td>\n",
       "      <td>Central Toronto</td>\n",
       "      <td>Moore Park, Summerhill East</td>\n",
       "      <td>M4T</td>\n",
       "      <td>43.689574</td>\n",
       "      <td>-79.383160</td>\n",
       "    </tr>\n",
       "    <tr>\n",
       "      <th>49</th>\n",
       "      <td>M4V</td>\n",
       "      <td>Central Toronto</td>\n",
       "      <td>Deer Park, Forest Hill SE, Rathnelly, South Hi...</td>\n",
       "      <td>M4V</td>\n",
       "      <td>43.686412</td>\n",
       "      <td>-79.400049</td>\n",
       "    </tr>\n",
       "  </tbody>\n",
       "</table>\n",
       "</div>"
      ],
      "text/plain": [
       "   PostalCode          Borough  \\\n",
       "37        M4E     East Toronto   \n",
       "41        M4K     East Toronto   \n",
       "42        M4L     East Toronto   \n",
       "43        M4M     East Toronto   \n",
       "44        M4N  Central Toronto   \n",
       "45        M4P  Central Toronto   \n",
       "46        M4R  Central Toronto   \n",
       "47        M4S  Central Toronto   \n",
       "48        M4T  Central Toronto   \n",
       "49        M4V  Central Toronto   \n",
       "\n",
       "                                        Neighbourhood index   Latitude  \\\n",
       "37                                        The Beaches   M4E  43.676357   \n",
       "41                       The Danforth West, Riverdale   M4K  43.679557   \n",
       "42                     The Beaches West, India Bazaar   M4L  43.668999   \n",
       "43                                    Studio District   M4M  43.659526   \n",
       "44                                      Lawrence Park   M4N  43.728020   \n",
       "45                                   Davisville North   M4P  43.712751   \n",
       "46                                 North Toronto West   M4R  43.715383   \n",
       "47                                         Davisville   M4S  43.704324   \n",
       "48                        Moore Park, Summerhill East   M4T  43.689574   \n",
       "49  Deer Park, Forest Hill SE, Rathnelly, South Hi...   M4V  43.686412   \n",
       "\n",
       "    Longitude  \n",
       "37 -79.293031  \n",
       "41 -79.352188  \n",
       "42 -79.315572  \n",
       "43 -79.340923  \n",
       "44 -79.388790  \n",
       "45 -79.390197  \n",
       "46 -79.405678  \n",
       "47 -79.388790  \n",
       "48 -79.383160  \n",
       "49 -79.400049  "
      ]
     },
     "execution_count": 24,
     "metadata": {},
     "output_type": "execute_result"
    }
   ],
   "source": [
    "df_explore = pc_groups[pc_groups['Borough'].str.contains('Toronto')]\n",
    "df_explore.head(10)"
   ]
  },
  {
   "cell_type": "code",
   "execution_count": 25,
   "metadata": {},
   "outputs": [
    {
     "data": {
      "text/plain": [
       "(38, 6)"
      ]
     },
     "execution_count": 25,
     "metadata": {},
     "output_type": "execute_result"
    }
   ],
   "source": [
    "df_explore.shape"
   ]
  },
  {
   "cell_type": "markdown",
   "metadata": {},
   "source": [
    "There are 38 items with the word 'Toronto' in the Borough"
   ]
  },
  {
   "cell_type": "code",
   "execution_count": 26,
   "metadata": {},
   "outputs": [
    {
     "name": "stdout",
     "output_type": "stream",
     "text": [
      "<class 'pandas.core.frame.DataFrame'>\n",
      "Int64Index: 38 entries, 37 to 87\n",
      "Data columns (total 6 columns):\n",
      "PostalCode       38 non-null object\n",
      "Borough          38 non-null object\n",
      "Neighbourhood    38 non-null object\n",
      "index            38 non-null object\n",
      "Latitude         38 non-null float64\n",
      "Longitude        38 non-null float64\n",
      "dtypes: float64(2), object(4)\n",
      "memory usage: 2.1+ KB\n"
     ]
    }
   ],
   "source": [
    "df_explore.info()"
   ]
  },
  {
   "cell_type": "code",
   "execution_count": 27,
   "metadata": {},
   "outputs": [
    {
     "data": {
      "text/html": [
       "<div>\n",
       "<style scoped>\n",
       "    .dataframe tbody tr th:only-of-type {\n",
       "        vertical-align: middle;\n",
       "    }\n",
       "\n",
       "    .dataframe tbody tr th {\n",
       "        vertical-align: top;\n",
       "    }\n",
       "\n",
       "    .dataframe thead th {\n",
       "        text-align: right;\n",
       "    }\n",
       "</style>\n",
       "<table border=\"1\" class=\"dataframe\">\n",
       "  <thead>\n",
       "    <tr style=\"text-align: right;\">\n",
       "      <th></th>\n",
       "      <th>Latitude</th>\n",
       "      <th>Longitude</th>\n",
       "    </tr>\n",
       "  </thead>\n",
       "  <tbody>\n",
       "    <tr>\n",
       "      <th>count</th>\n",
       "      <td>38.000000</td>\n",
       "      <td>38.000000</td>\n",
       "    </tr>\n",
       "    <tr>\n",
       "      <th>mean</th>\n",
       "      <td>43.667262</td>\n",
       "      <td>-79.389883</td>\n",
       "    </tr>\n",
       "    <tr>\n",
       "      <th>std</th>\n",
       "      <td>0.023780</td>\n",
       "      <td>0.037954</td>\n",
       "    </tr>\n",
       "    <tr>\n",
       "      <th>min</th>\n",
       "      <td>43.628947</td>\n",
       "      <td>-79.484450</td>\n",
       "    </tr>\n",
       "    <tr>\n",
       "      <th>25%</th>\n",
       "      <td>43.649363</td>\n",
       "      <td>-79.405678</td>\n",
       "    </tr>\n",
       "    <tr>\n",
       "      <th>50%</th>\n",
       "      <td>43.662152</td>\n",
       "      <td>-79.385975</td>\n",
       "    </tr>\n",
       "    <tr>\n",
       "      <th>75%</th>\n",
       "      <td>43.678757</td>\n",
       "      <td>-79.375946</td>\n",
       "    </tr>\n",
       "    <tr>\n",
       "      <th>max</th>\n",
       "      <td>43.728020</td>\n",
       "      <td>-79.293031</td>\n",
       "    </tr>\n",
       "  </tbody>\n",
       "</table>\n",
       "</div>"
      ],
      "text/plain": [
       "        Latitude  Longitude\n",
       "count  38.000000  38.000000\n",
       "mean   43.667262 -79.389883\n",
       "std     0.023780   0.037954\n",
       "min    43.628947 -79.484450\n",
       "25%    43.649363 -79.405678\n",
       "50%    43.662152 -79.385975\n",
       "75%    43.678757 -79.375946\n",
       "max    43.728020 -79.293031"
      ]
     },
     "execution_count": 27,
     "metadata": {},
     "output_type": "execute_result"
    }
   ],
   "source": [
    "df_explore.describe()"
   ]
  },
  {
   "cell_type": "markdown",
   "metadata": {},
   "source": [
    "Here the map will be instantiated"
   ]
  },
  {
   "cell_type": "code",
   "execution_count": 31,
   "metadata": {},
   "outputs": [],
   "source": [
    "address = 'Toronto, ON'\n",
    "\n",
    "geolocator = Nominatim(user_agent=\"toronto_explorer\")\n",
    "location = geolocator.geocode(address)\n",
    "latitude = location.latitude\n",
    "longitude = location.longitude\n",
    "\n",
    "toronto_map = folium.Map(location=[location.latitude, location.longitude], zoom_start=11)\n"
   ]
  },
  {
   "cell_type": "markdown",
   "metadata": {},
   "source": [
    "Now, all the Postal Codes will be plotted on the map with it's respective Borough's name"
   ]
  },
  {
   "cell_type": "code",
   "execution_count": 30,
   "metadata": {},
   "outputs": [
    {
     "data": {
      "text/html": [
       "<div style=\"width:100%;\"><div style=\"position:relative;width:100%;height:0;padding-bottom:60%;\"><iframe src=\"data:text/html;charset=utf-8;base64,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\" style=\"position:absolute;width:100%;height:100%;left:0;top:0;border:none !important;\" allowfullscreen webkitallowfullscreen mozallowfullscreen></iframe></div></div>"
      ],
      "text/plain": [
       "<folium.folium.Map at 0x7f9915e67668>"
      ]
     },
     "execution_count": 30,
     "metadata": {},
     "output_type": "execute_result"
    }
   ],
   "source": [
    "from folium import plugins\n",
    "\n",
    "# let's start again with a clean copy of the map of San Francisco\n",
    "toronto_map = folium.Map(location = [location.latitude, location.longitude], zoom_start = 12)\n",
    "\n",
    "# instantiate a mark cluster object for the incidents in the dataframe\n",
    "postal_codes = plugins.MarkerCluster().add_to(toronto_map)\n",
    "\n",
    "# loop through the dataframe and add each data point to the mark cluster\n",
    "for lat, lng, label, bor in zip(df_explore['Latitude'], df_explore['Longitude'], df_explore['PostalCode'], df_explore['Borough']):\n",
    "    folium.Marker(\n",
    "        location=[lat, lng],\n",
    "        icon=None,\n",
    "        popup=bor + ' - ' + label,\n",
    "    ).add_to(postal_codes)\n",
    "\n",
    "# display map\n",
    "toronto_map"
   ]
  },
  {
   "cell_type": "code",
   "execution_count": null,
   "metadata": {},
   "outputs": [],
   "source": []
  }
 ],
 "metadata": {
  "kernelspec": {
   "display_name": "Python 3",
   "language": "python",
   "name": "python3"
  },
  "language_info": {
   "codemirror_mode": {
    "name": "ipython",
    "version": 3
   },
   "file_extension": ".py",
   "mimetype": "text/x-python",
   "name": "python",
   "nbconvert_exporter": "python",
   "pygments_lexer": "ipython3",
   "version": "3.6.7"
  }
 },
 "nbformat": 4,
 "nbformat_minor": 4
}
