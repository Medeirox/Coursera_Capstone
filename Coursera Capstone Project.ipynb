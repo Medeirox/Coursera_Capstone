{
    "nbformat_minor": 1, 
    "cells": [
        {
            "source": "<img align=\"center\" src=\"http://68.media.tumblr.com/92a71d62ace9940f8ddd540400444fc4/tumblr_inline_mppo32jFBC1qz4rgp.png\"><p>\n<h1><center>Capstone Project</center></h1><br><h1>Project: <em>Rio de Janeiro Business Segmentation by Neighborhood</em><h1>", 
            "cell_type": "markdown", 
            "metadata": {
                "collapsed": true
            }
        }, 
        {
            "source": "### This project is part of the <em>'Applied Data Science Capstone Course'</em> from my Coursera Classes.\n\n#### Developer: Diego Medeiros <br>GitHub: www.github.com/medeirox", 
            "cell_type": "markdown", 
            "metadata": {}
        }, 
        {
            "source": "## Table of Contents\n\n<div class=\"alert alert-block alert-info\" style=\"margin-top: 20px\">\n\n<font size = 3>\n\n1. <a href=\"#item1\">Introduction</a><br>\n\n2. <a href=\"#item2\">Data</a><br>\n\n3. <a href=\"#item3\">Methodology</a>\n\n4. <a href=\"#item4\">Implementation</a>\n\n</font>\n</div>", 
            "cell_type": "markdown", 
            "metadata": {}
        }, 
        {
            "source": "<a id='item1'></a>", 
            "cell_type": "markdown", 
            "metadata": {}
        }, 
        {
            "source": "# 1. Business Problem", 
            "cell_type": "markdown", 
            "metadata": {}
        }, 
        {
            "source": "When starting a business, one needs to be as much confident as he can about the possibilites of success, and since a deep crisis in Brazil started, entreperneurs are having a hard time.<br>\nMany people have lauched an entrepeneur carreer due to the difficult of finding a job, gathering as much money as they can from economies, family and friends with the hope of succeess as the only option.\n\nThis analysis focuses mainly on the stabilished businesses of each neighbourhood, trying to model each place in a fashion to correlate to others and evidence possibilities of making profit from lacking areas. \n\nFor the government, these observations can show possibilities for leveraging business benefits to grow certain areas.\n\nAn insight of the neighbourhood lifestyle might become available as well, since the business needs say so much from a place and the stakeholder can even take other benefits beyond this report.\n\n<strong>Target Audience:</strong><br>\nEntrepeneurs seeking for an opportunity to invest resources.\n\n<strong>Stakeholders:</strong>\n    <ul>\n    <li>Entrepeneurs</li>\n    <li>Government of Rio de Janeiro</li>\n    <li>Angel Investors</li>\n    <li>Financing Groups</li>\n    <li>Banks</li>\n    </ul>\n\n", 
            "cell_type": "markdown", 
            "metadata": {}
        }, 
        {
            "source": "<a id='item2'></a>", 
            "cell_type": "markdown", 
            "metadata": {}
        }, 
        {
            "source": "## 2. Data\n\nThe following data is used to gather the target insights\n<p>\n\n<strong>1. List of Rio de Janeiro's neighbourhoods</strong>\n<br>\nSource: <a href=\"https://pt.wikipedia.org/wiki/Lista_de_bairros_da_cidade_do_Rio_de_Janeiro\">Wikipedia list of Neighbourhoods</a>\n<br>\nInquiry date: 14/07/2019\n<br>\nDescription: Wikipedia URL with the list and description of each neighbourhood in Rio de Janeiro.\n<br>\nType of resouce: Web page\n<br>\nType of data: Html\n<p>\n\n<strong>2. Geolocation GeoPy, GeoCoder and LocationIQ API</strong>\n<br>\nSource 1: <a href=\"https://anaconda.org/conda-forge/geopy\">GeoPy Library</a>\n<br>\nSource 2: <a href=\"https://anaconda.org/conda-forge/geocoder\">Geocoder Library</a>\n<br>\nSource 3: <a href=\"https://locationiq.com/\">LocationIQ</a>\n<br>\nInquiry date: 14/07/2019\n<br>\nDescription: GeoPy and Geocoder are both libraries for geoencoding of addresses. GeoPy will be used as the primary resource, and if data cannot be retreived from it, then Geocoder will be used associated with a LocationIQ free account assigned. Observe that, since LocationIQ has restrictions on the number of requests for the free account, it has been assinged as the backup resource.\n<br>\nType of resource: Python Library\n<br>\nType of Data: Source 1: Python Object | Source 2 and 3: JSON\n<p>\n\n<strong>3. Foursquare location information API</strong>\n<br>\nSource: <a href=\"https://foursquare.com\">Foursquare</a>\n<br>\nInquiry date: 14/07/2019\n<br>\nDescription: Location business information API.\n<br>\nType of resource: Restful API\n<br>\nType of data: JSON\n<br>\n\n", 
            "cell_type": "markdown", 
            "metadata": {}
        }, 
        {
            "source": "<a id='item3'></a>", 
            "cell_type": "markdown", 
            "metadata": {}
        }, 
        {
            "source": "## 3. Methodology", 
            "cell_type": "markdown", 
            "metadata": {}
        }, 
        {
            "source": "In a nutshell, the methodology to be used in this report is described below.\n\n1. Data collected from the Wikipedia page has been processed to create a DataFrame of neighbourhoods of Rio de Janeiro;\n<p>\n    \n2. Gather the geolocation of each neighbourhood and append to the initial dataframe;\n<p>\n    \n3. Explore the data\n<p>\n\n4. Pre-process the data for the Machine Learning Algorithm\n<p>\n    \n5. Run the model and plot the results", 
            "cell_type": "markdown", 
            "metadata": {}
        }, 
        {
            "source": "<a id='item4'></a>", 
            "cell_type": "markdown", 
            "metadata": {}
        }, 
        {
            "source": "## 4. Implementation", 
            "cell_type": "markdown", 
            "metadata": {}
        }, 
        {
            "execution_count": 106, 
            "cell_type": "code", 
            "metadata": {}, 
            "outputs": [], 
            "source": "# Imports\n\nimport pandas as pd\nimport numpy as np\nimport requests"
        }, 
        {
            "execution_count": 127, 
            "cell_type": "code", 
            "metadata": {}, 
            "outputs": [], 
            "source": "# The code was removed by Watson Studio for sharing."
        }, 
        {
            "source": "First, we'll gather data from Wikipedia regarding the name of all neighbourhoods in Rio de Janeiro", 
            "cell_type": "markdown", 
            "metadata": {}
        }, 
        {
            "execution_count": 108, 
            "cell_type": "code", 
            "metadata": {
                "scrolled": true
            }, 
            "outputs": [
                {
                    "execution_count": 108, 
                    "metadata": {}, 
                    "data": {
                        "text/html": "<div>\n<style scoped>\n    .dataframe tbody tr th:only-of-type {\n        vertical-align: middle;\n    }\n\n    .dataframe tbody tr th {\n        vertical-align: top;\n    }\n\n    .dataframe thead th {\n        text-align: right;\n    }\n</style>\n<table border=\"1\" class=\"dataframe\">\n  <thead>\n    <tr style=\"text-align: right;\">\n      <th></th>\n      <th>0</th>\n      <th>1</th>\n      <th>2</th>\n      <th>3</th>\n    </tr>\n  </thead>\n  <tbody>\n    <tr>\n      <th>0</th>\n      <td>Bairros oficiais</td>\n      <td>Bairros oficiais</td>\n      <td>Bairros oficiais</td>\n      <td>Bairros oficiais</td>\n    </tr>\n    <tr>\n      <th>1</th>\n      <td>Zona</td>\n      <td>Subprefeitura(n\u00ba de bairros)</td>\n      <td>Bairros[5]</td>\n      <td>Imagens</td>\n    </tr>\n    <tr>\n      <th>2</th>\n      <td>Central</td>\n      <td>Centro Hist\u00f3rico e Zona Portu\u00e1ria (17)[6][7]</td>\n      <td>Bairro Imperial de S\u00e3o Crist\u00f3v\u00e3o \u2022 Benfica \u2022 C...</td>\n      <td>NaN</td>\n    </tr>\n    <tr>\n      <th>3</th>\n      <td>Sul</td>\n      <td>Zona Sul (17)[8]</td>\n      <td>Botafogo \u2022 Catete \u2022 Copacabana \u2022 Cosme Velho \u2022...</td>\n      <td>NaN</td>\n    </tr>\n    <tr>\n      <th>4</th>\n      <td>Oeste</td>\n      <td>Barra da Tijuca e Baixada de Jacarepagu\u00e1 (19)</td>\n      <td>Anil \u2022 Barra da Tijuca \u2022 Camorim \u2022 Cidade de D...</td>\n      <td>NaN</td>\n    </tr>\n    <tr>\n      <th>5</th>\n      <td>Oeste</td>\n      <td>Grande Bangu (10)[9]</td>\n      <td>Bangu \u2022 Deodoro \u2022 Gericin\u00f3 \u2022 Magalh\u00e3es Bastos ...</td>\n      <td>NaN</td>\n    </tr>\n    <tr>\n      <th>6</th>\n      <td>Oeste</td>\n      <td>Zona Oeste (10)</td>\n      <td>Barra de Guaratiba \u2022 Campo Grande \u2022 Cosmos \u2022 G...</td>\n      <td>NaN</td>\n    </tr>\n    <tr>\n      <th>7</th>\n      <td>Norte</td>\n      <td>Grande Tijuca (7)</td>\n      <td>Alto da Boa Vista \u2022 Andara\u00ed \u2022 Graja\u00fa \u2022 Pra\u00e7a d...</td>\n      <td>NaN</td>\n    </tr>\n    <tr>\n      <th>8</th>\n      <td>Norte</td>\n      <td>Grande M\u00e9ier (21)[10]</td>\n      <td>Aboli\u00e7\u00e3o \u2022 \u00c1gua Santa \u2022 Cachambi \u2022 Del Castilh...</td>\n      <td>NaN</td>\n    </tr>\n    <tr>\n      <th>9</th>\n      <td>Norte</td>\n      <td>Ilha do Governador e Zona da Leopoldina (19)</td>\n      <td>Bonsucesso \u2022 Banc\u00e1rios \u2022 Cacuia \u2022 Cidade Unive...</td>\n      <td>NaN</td>\n    </tr>\n    <tr>\n      <th>10</th>\n      <td>Norte</td>\n      <td>Zona Norte (40)[11]</td>\n      <td>Acari \u2022 Anchieta \u2022 Barros Filho \u2022 Bento Ribeir...</td>\n      <td>NaN</td>\n    </tr>\n  </tbody>\n</table>\n</div>", 
                        "text/plain": "                   0                                              1  \\\n0   Bairros oficiais                               Bairros oficiais   \n1               Zona                   Subprefeitura(n\u00ba de bairros)   \n2            Central   Centro Hist\u00f3rico e Zona Portu\u00e1ria (17)[6][7]   \n3                Sul                               Zona Sul (17)[8]   \n4              Oeste  Barra da Tijuca e Baixada de Jacarepagu\u00e1 (19)   \n5              Oeste                           Grande Bangu (10)[9]   \n6              Oeste                                Zona Oeste (10)   \n7              Norte                              Grande Tijuca (7)   \n8              Norte                          Grande M\u00e9ier (21)[10]   \n9              Norte   Ilha do Governador e Zona da Leopoldina (19)   \n10             Norte                            Zona Norte (40)[11]   \n\n                                                    2                 3  \n0                                    Bairros oficiais  Bairros oficiais  \n1                                          Bairros[5]           Imagens  \n2   Bairro Imperial de S\u00e3o Crist\u00f3v\u00e3o \u2022 Benfica \u2022 C...               NaN  \n3   Botafogo \u2022 Catete \u2022 Copacabana \u2022 Cosme Velho \u2022...               NaN  \n4   Anil \u2022 Barra da Tijuca \u2022 Camorim \u2022 Cidade de D...               NaN  \n5   Bangu \u2022 Deodoro \u2022 Gericin\u00f3 \u2022 Magalh\u00e3es Bastos ...               NaN  \n6   Barra de Guaratiba \u2022 Campo Grande \u2022 Cosmos \u2022 G...               NaN  \n7   Alto da Boa Vista \u2022 Andara\u00ed \u2022 Graja\u00fa \u2022 Pra\u00e7a d...               NaN  \n8   Aboli\u00e7\u00e3o \u2022 \u00c1gua Santa \u2022 Cachambi \u2022 Del Castilh...               NaN  \n9   Bonsucesso \u2022 Banc\u00e1rios \u2022 Cacuia \u2022 Cidade Unive...               NaN  \n10  Acari \u2022 Anchieta \u2022 Barros Filho \u2022 Bento Ribeir...               NaN  "
                    }, 
                    "output_type": "execute_result"
                }
            ], 
            "source": "raw_ = pd.read_html('https://pt.wikipedia.org/wiki/Lista_de_bairros_da_cidade_do_Rio_de_Janeiro')\ndf_neigh = raw_[0]\ndf_neigh"
        }, 
        {
            "execution_count": 109, 
            "cell_type": "code", 
            "metadata": {
                "scrolled": false
            }, 
            "outputs": [
                {
                    "execution_count": 109, 
                    "metadata": {}, 
                    "data": {
                        "text/html": "<div>\n<style scoped>\n    .dataframe tbody tr th:only-of-type {\n        vertical-align: middle;\n    }\n\n    .dataframe tbody tr th {\n        vertical-align: top;\n    }\n\n    .dataframe thead th {\n        text-align: right;\n    }\n</style>\n<table border=\"1\" class=\"dataframe\">\n  <thead>\n    <tr style=\"text-align: right;\">\n      <th></th>\n      <th>0</th>\n      <th>2</th>\n    </tr>\n  </thead>\n  <tbody>\n    <tr>\n      <th>2</th>\n      <td>Central</td>\n      <td>Bairro Imperial de S\u00e3o Crist\u00f3v\u00e3o \u2022 Benfica \u2022 C...</td>\n    </tr>\n    <tr>\n      <th>3</th>\n      <td>Sul</td>\n      <td>Botafogo \u2022 Catete \u2022 Copacabana \u2022 Cosme Velho \u2022...</td>\n    </tr>\n    <tr>\n      <th>4</th>\n      <td>Oeste</td>\n      <td>Anil \u2022 Barra da Tijuca \u2022 Camorim \u2022 Cidade de D...</td>\n    </tr>\n    <tr>\n      <th>5</th>\n      <td>Oeste</td>\n      <td>Bangu \u2022 Deodoro \u2022 Gericin\u00f3 \u2022 Magalh\u00e3es Bastos ...</td>\n    </tr>\n    <tr>\n      <th>6</th>\n      <td>Oeste</td>\n      <td>Barra de Guaratiba \u2022 Campo Grande \u2022 Cosmos \u2022 G...</td>\n    </tr>\n    <tr>\n      <th>7</th>\n      <td>Norte</td>\n      <td>Alto da Boa Vista \u2022 Andara\u00ed \u2022 Graja\u00fa \u2022 Pra\u00e7a d...</td>\n    </tr>\n    <tr>\n      <th>8</th>\n      <td>Norte</td>\n      <td>Aboli\u00e7\u00e3o \u2022 \u00c1gua Santa \u2022 Cachambi \u2022 Del Castilh...</td>\n    </tr>\n    <tr>\n      <th>9</th>\n      <td>Norte</td>\n      <td>Bonsucesso \u2022 Banc\u00e1rios \u2022 Cacuia \u2022 Cidade Unive...</td>\n    </tr>\n    <tr>\n      <th>10</th>\n      <td>Norte</td>\n      <td>Acari \u2022 Anchieta \u2022 Barros Filho \u2022 Bento Ribeir...</td>\n    </tr>\n  </tbody>\n</table>\n</div>", 
                        "text/plain": "          0                                                  2\n2   Central  Bairro Imperial de S\u00e3o Crist\u00f3v\u00e3o \u2022 Benfica \u2022 C...\n3       Sul  Botafogo \u2022 Catete \u2022 Copacabana \u2022 Cosme Velho \u2022...\n4     Oeste  Anil \u2022 Barra da Tijuca \u2022 Camorim \u2022 Cidade de D...\n5     Oeste  Bangu \u2022 Deodoro \u2022 Gericin\u00f3 \u2022 Magalh\u00e3es Bastos ...\n6     Oeste  Barra de Guaratiba \u2022 Campo Grande \u2022 Cosmos \u2022 G...\n7     Norte  Alto da Boa Vista \u2022 Andara\u00ed \u2022 Graja\u00fa \u2022 Pra\u00e7a d...\n8     Norte  Aboli\u00e7\u00e3o \u2022 \u00c1gua Santa \u2022 Cachambi \u2022 Del Castilh...\n9     Norte  Bonsucesso \u2022 Banc\u00e1rios \u2022 Cacuia \u2022 Cidade Unive...\n10    Norte  Acari \u2022 Anchieta \u2022 Barros Filho \u2022 Bento Ribeir..."
                    }, 
                    "output_type": "execute_result"
                }
            ], 
            "source": "df_neigh.drop([0,1], inplace=True)\ndf_neigh.drop([1,3],axis=1, inplace=True)\ndf_neigh"
        }, 
        {
            "execution_count": 110, 
            "cell_type": "code", 
            "metadata": {}, 
            "outputs": [
                {
                    "execution_count": 110, 
                    "metadata": {}, 
                    "data": {
                        "text/html": "<div>\n<style scoped>\n    .dataframe tbody tr th:only-of-type {\n        vertical-align: middle;\n    }\n\n    .dataframe tbody tr th {\n        vertical-align: top;\n    }\n\n    .dataframe thead th {\n        text-align: right;\n    }\n</style>\n<table border=\"1\" class=\"dataframe\">\n  <thead>\n    <tr style=\"text-align: right;\">\n      <th></th>\n      <th>Zone</th>\n      <th>Neighbourhood</th>\n    </tr>\n  </thead>\n  <tbody>\n    <tr>\n      <th>0</th>\n      <td>Central</td>\n      <td>Bairro Imperial de S\u00e3o Crist\u00f3v\u00e3o \u2022 Benfica \u2022 C...</td>\n    </tr>\n    <tr>\n      <th>1</th>\n      <td>Sul</td>\n      <td>Botafogo \u2022 Catete \u2022 Copacabana \u2022 Cosme Velho \u2022...</td>\n    </tr>\n    <tr>\n      <th>2</th>\n      <td>Oeste</td>\n      <td>Anil \u2022 Barra da Tijuca \u2022 Camorim \u2022 Cidade de D...</td>\n    </tr>\n    <tr>\n      <th>3</th>\n      <td>Oeste</td>\n      <td>Bangu \u2022 Deodoro \u2022 Gericin\u00f3 \u2022 Magalh\u00e3es Bastos ...</td>\n    </tr>\n    <tr>\n      <th>4</th>\n      <td>Oeste</td>\n      <td>Barra de Guaratiba \u2022 Campo Grande \u2022 Cosmos \u2022 G...</td>\n    </tr>\n    <tr>\n      <th>5</th>\n      <td>Norte</td>\n      <td>Alto da Boa Vista \u2022 Andara\u00ed \u2022 Graja\u00fa \u2022 Pra\u00e7a d...</td>\n    </tr>\n    <tr>\n      <th>6</th>\n      <td>Norte</td>\n      <td>Aboli\u00e7\u00e3o \u2022 \u00c1gua Santa \u2022 Cachambi \u2022 Del Castilh...</td>\n    </tr>\n    <tr>\n      <th>7</th>\n      <td>Norte</td>\n      <td>Bonsucesso \u2022 Banc\u00e1rios \u2022 Cacuia \u2022 Cidade Unive...</td>\n    </tr>\n    <tr>\n      <th>8</th>\n      <td>Norte</td>\n      <td>Acari \u2022 Anchieta \u2022 Barros Filho \u2022 Bento Ribeir...</td>\n    </tr>\n  </tbody>\n</table>\n</div>", 
                        "text/plain": "      Zone                                      Neighbourhood\n0  Central  Bairro Imperial de S\u00e3o Crist\u00f3v\u00e3o \u2022 Benfica \u2022 C...\n1      Sul  Botafogo \u2022 Catete \u2022 Copacabana \u2022 Cosme Velho \u2022...\n2    Oeste  Anil \u2022 Barra da Tijuca \u2022 Camorim \u2022 Cidade de D...\n3    Oeste  Bangu \u2022 Deodoro \u2022 Gericin\u00f3 \u2022 Magalh\u00e3es Bastos ...\n4    Oeste  Barra de Guaratiba \u2022 Campo Grande \u2022 Cosmos \u2022 G...\n5    Norte  Alto da Boa Vista \u2022 Andara\u00ed \u2022 Graja\u00fa \u2022 Pra\u00e7a d...\n6    Norte  Aboli\u00e7\u00e3o \u2022 \u00c1gua Santa \u2022 Cachambi \u2022 Del Castilh...\n7    Norte  Bonsucesso \u2022 Banc\u00e1rios \u2022 Cacuia \u2022 Cidade Unive...\n8    Norte  Acari \u2022 Anchieta \u2022 Barros Filho \u2022 Bento Ribeir..."
                    }, 
                    "output_type": "execute_result"
                }
            ], 
            "source": "df_neigh.columns = ['Zone', 'Neighbourhood']\ndf_neigh.reset_index(inplace=True)\ndf_neigh.drop('index', axis=1, inplace=True)\ndf_neigh"
        }, 
        {
            "execution_count": 111, 
            "cell_type": "code", 
            "metadata": {}, 
            "outputs": [
                {
                    "execution_count": 111, 
                    "metadata": {}, 
                    "data": {
                        "text/html": "<div>\n<style scoped>\n    .dataframe tbody tr th:only-of-type {\n        vertical-align: middle;\n    }\n\n    .dataframe tbody tr th {\n        vertical-align: top;\n    }\n\n    .dataframe thead th {\n        text-align: right;\n    }\n</style>\n<table border=\"1\" class=\"dataframe\">\n  <thead>\n    <tr style=\"text-align: right;\">\n      <th></th>\n      <th>Zone</th>\n      <th>Neighbourhood</th>\n    </tr>\n  </thead>\n  <tbody>\n    <tr>\n      <th>0</th>\n      <td>Central</td>\n      <td>[Bairro Imperial de S\u00e3o Crist\u00f3v\u00e3o ,  Benfica ,...</td>\n    </tr>\n    <tr>\n      <th>1</th>\n      <td>Sul</td>\n      <td>[Botafogo ,  Catete ,  Copacabana ,  Cosme Vel...</td>\n    </tr>\n    <tr>\n      <th>2</th>\n      <td>Oeste</td>\n      <td>[Anil ,  Barra da Tijuca ,  Camorim ,  Cidade ...</td>\n    </tr>\n    <tr>\n      <th>3</th>\n      <td>Oeste</td>\n      <td>[Bangu ,  Deodoro ,  Gericin\u00f3 ,  Magalh\u00e3es Bas...</td>\n    </tr>\n    <tr>\n      <th>4</th>\n      <td>Oeste</td>\n      <td>[Barra de Guaratiba ,  Campo Grande ,  Cosmos ...</td>\n    </tr>\n    <tr>\n      <th>5</th>\n      <td>Norte</td>\n      <td>[Alto da Boa Vista ,  Andara\u00ed ,  Graja\u00fa ,  Pra...</td>\n    </tr>\n    <tr>\n      <th>6</th>\n      <td>Norte</td>\n      <td>[Aboli\u00e7\u00e3o ,  \u00c1gua Santa ,  Cachambi ,  Del Cas...</td>\n    </tr>\n    <tr>\n      <th>7</th>\n      <td>Norte</td>\n      <td>[Bonsucesso ,  Banc\u00e1rios ,  Cacuia ,  Cidade U...</td>\n    </tr>\n    <tr>\n      <th>8</th>\n      <td>Norte</td>\n      <td>[Acari ,  Anchieta ,  Barros Filho ,  Bento Ri...</td>\n    </tr>\n  </tbody>\n</table>\n</div>", 
                        "text/plain": "      Zone                                      Neighbourhood\n0  Central  [Bairro Imperial de S\u00e3o Crist\u00f3v\u00e3o ,  Benfica ,...\n1      Sul  [Botafogo ,  Catete ,  Copacabana ,  Cosme Vel...\n2    Oeste  [Anil ,  Barra da Tijuca ,  Camorim ,  Cidade ...\n3    Oeste  [Bangu ,  Deodoro ,  Gericin\u00f3 ,  Magalh\u00e3es Bas...\n4    Oeste  [Barra de Guaratiba ,  Campo Grande ,  Cosmos ...\n5    Norte  [Alto da Boa Vista ,  Andara\u00ed ,  Graja\u00fa ,  Pra...\n6    Norte  [Aboli\u00e7\u00e3o ,  \u00c1gua Santa ,  Cachambi ,  Del Cas...\n7    Norte  [Bonsucesso ,  Banc\u00e1rios ,  Cacuia ,  Cidade U...\n8    Norte  [Acari ,  Anchieta ,  Barros Filho ,  Bento Ri..."
                    }, 
                    "output_type": "execute_result"
                }
            ], 
            "source": "df_neigh['Neighbourhood'] = df_neigh['Neighbourhood'].transform(lambda x: x.split('\u2022'))\ndf_neigh"
        }, 
        {
            "execution_count": 112, 
            "cell_type": "code", 
            "metadata": {}, 
            "outputs": [
                {
                    "execution_count": 112, 
                    "metadata": {}, 
                    "data": {
                        "text/html": "<div>\n<style scoped>\n    .dataframe tbody tr th:only-of-type {\n        vertical-align: middle;\n    }\n\n    .dataframe tbody tr th {\n        vertical-align: top;\n    }\n\n    .dataframe thead th {\n        text-align: right;\n    }\n</style>\n<table border=\"1\" class=\"dataframe\">\n  <thead>\n    <tr style=\"text-align: right;\">\n      <th></th>\n      <th>Zone</th>\n      <th>Neighbourhood</th>\n      <th>Latitude</th>\n      <th>Longitude</th>\n    </tr>\n  </thead>\n  <tbody>\n    <tr>\n      <th>0</th>\n      <td>Central</td>\n      <td>Bairro Imperial de S\u00e3o Crist\u00f3v\u00e3o</td>\n      <td>0.0</td>\n      <td>0.0</td>\n    </tr>\n    <tr>\n      <th>1</th>\n      <td>Central</td>\n      <td>Benfica</td>\n      <td>0.0</td>\n      <td>0.0</td>\n    </tr>\n    <tr>\n      <th>2</th>\n      <td>Central</td>\n      <td>Caju</td>\n      <td>0.0</td>\n      <td>0.0</td>\n    </tr>\n    <tr>\n      <th>3</th>\n      <td>Central</td>\n      <td>Catumbi</td>\n      <td>0.0</td>\n      <td>0.0</td>\n    </tr>\n    <tr>\n      <th>4</th>\n      <td>Central</td>\n      <td>Centro</td>\n      <td>0.0</td>\n      <td>0.0</td>\n    </tr>\n  </tbody>\n</table>\n</div>", 
                        "text/plain": "      Zone                     Neighbourhood  Latitude  Longitude\n0  Central  Bairro Imperial de S\u00e3o Crist\u00f3v\u00e3o       0.0        0.0\n1  Central                           Benfica       0.0        0.0\n2  Central                              Caju       0.0        0.0\n3  Central                           Catumbi       0.0        0.0\n4  Central                            Centro       0.0        0.0"
                    }, 
                    "output_type": "execute_result"
                }
            ], 
            "source": "column_names = ['Zone', 'Neighbourhood', 'Latitude', 'Longitude']\ndf_neigh1 = pd.DataFrame(columns=column_names)\n#df_neigh1.columns = ['Zone', 'Neighbourhood', 'Latitude', 'Longitude']\nfor z, neig_series in zip(df_neigh['Zone'], df_neigh['Neighbourhood']):\n    for n in neig_series:\n        #print([z, n, 0.0, 0.0])\n        df_neigh1 = df_neigh1.append(\n            pd.DataFrame({'Zone':[z], 'Neighbourhood':[n.strip()], \\\n                          'Latitude':[0.0], 'Longitude':[0.0]}, \\\n                          columns=column_names), ignore_index=True)\ndf_neigh1.head()"
        }, 
        {
            "execution_count": 113, 
            "cell_type": "code", 
            "metadata": {}, 
            "outputs": [], 
            "source": "from geopy.geocoders import Nominatim"
        }, 
        {
            "execution_count": 116, 
            "cell_type": "code", 
            "metadata": {}, 
            "outputs": [
                {
                    "execution_count": 116, 
                    "metadata": {}, 
                    "data": {
                        "text/plain": "'Central'"
                    }, 
                    "output_type": "execute_result"
                }
            ], 
            "source": "df_neigh.loc[0]['Zone']"
        }, 
        {
            "execution_count": 125, 
            "cell_type": "code", 
            "metadata": {
                "collapsed": true
            }, 
            "outputs": [
                {
                    "output_type": "stream", 
                    "name": "stdout", 
                    "text": "Solving environment: done\n\n## Package Plan ##\n\n  environment location: /opt/conda/envs/Python36\n\n  added / updated specs: \n    - geocoder\n\n\nThe following packages will be downloaded:\n\n    package                    |            build\n    ---------------------------|-----------------\n    ca-certificates-2019.6.16  |       hecc5488_0         145 KB  conda-forge\n    openssl-1.1.1c             |       h516909a_0         2.1 MB  conda-forge\n    certifi-2019.6.16          |           py36_0         148 KB  conda-forge\n    ratelim-0.1.6              |             py_2           6 KB  conda-forge\n    geocoder-1.38.1            |             py_1          53 KB  conda-forge\n    ------------------------------------------------------------\n                                           Total:         2.5 MB\n\nThe following NEW packages will be INSTALLED:\n\n    geocoder:        1.38.1-py_1       conda-forge\n    ratelim:         0.1.6-py_2        conda-forge\n\nThe following packages will be UPDATED:\n\n    ca-certificates: 2019.5.15-0                   --> 2019.6.16-hecc5488_0 conda-forge\n    certifi:         2019.6.16-py36_0              --> 2019.6.16-py36_0     conda-forge\n\nThe following packages will be DOWNGRADED:\n\n    openssl:         1.1.1c-h7b6447c_1             --> 1.1.1c-h516909a_0    conda-forge\n\n\nDownloading and Extracting Packages\nca-certificates-2019 | 145 KB    | ##################################### | 100% \nopenssl-1.1.1c       | 2.1 MB    | ##################################### | 100% \ncertifi-2019.6.16    | 148 KB    | ##################################### | 100% \nratelim-0.1.6        | 6 KB      | ##################################### | 100% \ngeocoder-1.38.1      | 53 KB     | ##################################### | 100% \nPreparing transaction: done\nVerifying transaction: done\nExecuting transaction: done\n"
                }
            ], 
            "source": "#!conda install -c conda-forge geocoder --yes"
        }, 
        {
            "execution_count": 128, 
            "cell_type": "code", 
            "metadata": {}, 
            "outputs": [
                {
                    "execution_count": 128, 
                    "metadata": {}, 
                    "data": {
                        "text/plain": "{'accuracy': 1.082928189991,\n 'address': 'New York City, New York, USA',\n 'bbox': {'northeast': [40.9161785, -73.7001809],\n  'southwest': [40.477399, -74.25909]},\n 'confidence': 1,\n 'country': 'USA',\n 'country_code': 'us',\n 'icon': 'https://locationiq.org/static/images/mapicons/poi_place_city.p.20.png',\n 'importance': 1.082928189991,\n 'lat': 40.7127281,\n 'lng': -74.0060152,\n 'ok': True,\n 'osm_id': '175905',\n 'osm_type': 'relation',\n 'place_id': '214334866',\n 'postal': '10007',\n 'quality': 'city',\n 'raw': {'place_id': '214334866',\n  'licence': 'https://locationiq.com/attribution',\n  'osm_type': 'relation',\n  'osm_id': '175905',\n  'boundingbox': ['40.477399', '40.9161785', '-74.25909', '-73.7001809'],\n  'lat': '40.7127281',\n  'lon': '-74.0060152',\n  'display_name': 'New York City, New York, USA',\n  'class': 'place',\n  'type': 'city',\n  'importance': 1.082928189991,\n  'icon': 'https://locationiq.org/static/images/mapicons/poi_place_city.p.20.png',\n  'address': {'state_district': 'New York City',\n   'state': 'New York',\n   'country': 'USA',\n   'country_code': 'us',\n   'postcode': '10007'}},\n 'region': 'New York',\n 'state': 'New York',\n 'status': 'OK',\n 'type': 'city'}"
                    }, 
                    "output_type": "execute_result"
                }
            ], 
            "source": "# Library references\n# https://geocoder.readthedocs.io/providers/LocationIQ.html#geocoding\n# https://anaconda.org/conda-forge/geocoder\n\nimport geocoder\ng = geocoder.locationiq('New York city', key=LOCATIONIQ_TOKEN)\ng.json"
        }, 
        {
            "execution_count": 136, 
            "cell_type": "code", 
            "metadata": {
                "scrolled": false
            }, 
            "outputs": [
                {
                    "output_type": "stream", 
                    "name": "stdout", 
                    "text": "Neighbourhood: Bairro Imperial de S\u00e3o Crist\u00f3v\u00e3o | Lat: -22.899318 | Lon: -43.2219346\nNeighbourhood: Benfica | Lat: -22.8922965 | Lon: -43.240341\nNeighbourhood: Caju | Lat: -22.8803063 | Lon: -43.2214936\nNeighbourhood: Catumbi | Lat: -22.91966225 | Lon: -43.1990636825566\nNeighbourhood: Centro | Lat: -22.9043934 | Lon: -43.1830653\nNeighbourhood: Cidade Nova | Lat: -22.9100508 | Lon: -43.201756\nNeighbourhood: Est\u00e1cio | Lat: -22.9166265 | Lon: -43.20363\nNeighbourhood: Gamboa | Lat: -22.8977491 | Lon: -43.1929041\nNeighbourhood: Lapa | Lat: -22.9130257 | Lon: -43.1822358\nNeighbourhood: Mangueira | Lat: -22.904153 | Lon: -43.2364971\nNeighbourhood: Paquet\u00e1 | Lat: -22.7589261 | Lon: -43.1091992\nNeighbourhood: Rio Comprido | Lat: -22.9279449 | Lon: -43.2088566\nNeighbourhood: Santa Teresa | Lat: -22.9213991 | Lon: -43.1882138\nNeighbourhood: Santo Cristo | Lat: -22.9007657 | Lon: -43.2033933\nNeighbourhood: Sa\u00fade | Lat: -22.8971835 | Lon: -43.1841545\nNeighbourhood: Vasco da Gama | Lat: -22.8915219 | Lon: -43.2267195\nNeighbourhood: Botafogo | Lat: -22.94884465 | Lon: -43.179829096253\nNeighbourhood: Catete | Lat: -22.9269199 | Lon: -43.1802186\nNeighbourhood: Copacabana | Lat: -22.9719642 | Lon: -43.1843432\nNeighbourhood: Cosme Velho | Lat: -22.9415143 | Lon: -43.2006244\nNeighbourhood: Flamengo | Lat: -22.9339841 | Lon: -43.1745744\nNeighbourhood: G\u00e1vea | Lat: -22.9814243 | Lon: -43.2383245\nError gathering data for Gl\u00f3ria (bairro do Rio de Janeiro)\nNeighbourhood: Humait\u00e1 | Lat: -22.9546413 | Lon: -43.2004797\nNeighbourhood: Ipanema | Lat: -22.9839557 | Lon: -43.2022163\nNeighbourhood: Jardim Bot\u00e2nico | Lat: -22.9636362 | Lon: -43.2233457\nNeighbourhood: Lagoa | Lat: -22.9624658 | Lon: -43.2024884\nNeighbourhood: Laranjeiras | Lat: -22.9343173 | Lon: -43.1878165\nNeighbourhood: Leblon | Lat: -22.983556 | Lon: -43.2249377\nNeighbourhood: S\u00e3o Conrado | Lat: -22.9913592 | Lon: -43.2675329\nNeighbourhood: Urca | Lat: -22.9504435 | Lon: -43.1623454\nNeighbourhood: Anil | Lat: -22.9558133 | Lon: -43.3384123\nNeighbourhood: Barra da Tijuca | Lat: -22.9997404 | Lon: -43.3659929\nNeighbourhood: Camorim | Lat: -22.9711394 | Lon: -43.4311836\nNeighbourhood: Cidade de Deus | Lat: -22.94803 | Lon: -43.362903\nNeighbourhood: Curicica | Lat: -22.9519909 | Lon: -43.3872901\nError gathering data for Freguesia de Jacarepagu\u00e1\nNeighbourhood: Gard\u00eania Azul | Lat: -22.9582866 | Lon: -43.3512241\nNeighbourhood: Grumari | Lat: -23.0470388 | Lon: -43.5334787\nNeighbourhood: Itanhang\u00e1 | Lat: -22.9870911 | Lon: -43.3049379\nNeighbourhood: Jacarepagu\u00e1 | Lat: -22.9665038 | Lon: -43.3713193\nNeighbourhood: Jo\u00e1 | Lat: -23.0077797 | Lon: -43.2872344\nNeighbourhood: Pra\u00e7a Seca | Lat: -22.8992621 | Lon: -43.3527794\nNeighbourhood: Pechincha | Lat: -22.928988 | Lon: -43.3534191\nNeighbourhood: Recreio dos Bandeirantes | Lat: -23.0185151 | Lon: -43.4634021\nNeighbourhood: Tanque | Lat: -22.9151927 | Lon: -43.3557471\nNeighbourhood: Taquara | Lat: -22.9218864 | Lon: -43.384646\nNeighbourhood: Vargem Grande | Lat: -22.9707911 | Lon: -43.4968914\nNeighbourhood: Vargem Pequena | Lat: -22.9818187 | Lon: -43.4578117\nNeighbourhood: Vila Valqueire | Lat: -22.8886093 | Lon: -43.3657758\nNeighbourhood: Jardim Sulacap | Lat: -22.8956799 | Lon: -43.3929967\nNeighbourhood: Bangu | Lat: -22.8753053 | Lon: -43.4648805\nNeighbourhood: Deodoro | Lat: -22.851201 | Lon: -43.3870315\nNeighbourhood: Gericin\u00f3 | Lat: -22.8338762 | Lon: -43.4742517\nNeighbourhood: Magalh\u00e3es Bastos | Lat: -22.8725117 | Lon: -43.4136384\nNeighbourhood: Padre Miguel | Lat: -22.8788135 | Lon: -43.4485569\nNeighbourhood: Realengo | Lat: -22.8772743 | Lon: -43.4301032\nNeighbourhood: Sant\u00edssimo | Lat: -22.8751928 | Lon: -43.5198512\nNeighbourhood: Senador Camar\u00e1 | Lat: -22.8983985 | Lon: -43.4891571\nNeighbourhood: Vila Kennedy | Lat: -22.85350615 | Lon: -43.4918378831968\nNeighbourhood: Vila Militar | Lat: -22.860348 | Lon: -43.4028933\nNeighbourhood: Barra de Guaratiba | Lat: -23.0360036 | Lon: -43.5521395\nNeighbourhood: Campo Grande | Lat: -22.902953 | Lon: -43.5591295\nNeighbourhood: Cosmos | Lat: -22.9078051 | Lon: -43.6144915\nNeighbourhood: Guaratiba | Lat: -22.9905839 | Lon: -43.584923\nNeighbourhood: Inhoa\u00edba | Lat: -22.9131775 | Lon: -43.5932975\nNeighbourhood: Paci\u00eancia | Lat: -22.8987 | Lon: -43.6369556\nNeighbourhood: Pedra de Guaratiba | Lat: -22.9983546 | Lon: -43.6388666\nNeighbourhood: Santa Cruz | Lat: -22.9176248 | Lon: -43.6834907\nNeighbourhood: Senador Vasconcelos | Lat: -22.8953684 | Lon: -43.5288566\nNeighbourhood: Sepetiba | Lat: -22.9679803 | Lon: -43.6940872\nNeighbourhood: Alto da Boa Vista | Lat: -22.9621126 | Lon: -43.2535816\nNeighbourhood: Andara\u00ed | Lat: -22.9290845 | Lon: -43.2534858\nNeighbourhood: Graja\u00fa | Lat: -22.9298842 | Lon: -43.2695499\nNeighbourhood: Pra\u00e7a da Bandeira | Lat: -22.9112162 | Lon: -43.2131983\nNeighbourhood: Tijuca | Lat: -22.9332164 | Lon: -43.2381453\nNeighbourhood: Vila Isabel | Lat: -22.9152219 | Lon: -43.2472627\nNeighbourhood: Aboli\u00e7\u00e3o | Lat: -22.8861614 | Lon: -43.2998457\nNeighbourhood: \u00c1gua Santa | Lat: -22.9111428 | Lon: -43.3121258\nNeighbourhood: Cachambi | Lat: -22.8897634 | Lon: -43.2744953\nNeighbourhood: Del Castilho | Lat: -22.8795618 | Lon: -43.2724202\nNeighbourhood: Encantado | Lat: -22.8974743 | Lon: -43.3042461\nNeighbourhood: Engenho de Dentro | Lat: -22.9026591 | Lon: -43.2967757\nNeighbourhood: Engenho Novo | Lat: -22.9090942 | Lon: -43.2678381\nNeighbourhood: Higien\u00f3polis | Lat: -22.873999 | Lon: -43.2613682\nNeighbourhood: Jacar\u00e9 | Lat: -22.8931174 | Lon: -43.2571998\nNeighbourhood: Jacarezinho | Lat: -22.8875068 | Lon: -43.2578789\nNeighbourhood: Lins de Vasconcelos | Lat: -22.9140512 | Lon: -43.2843528\nNeighbourhood: Manguinhos | Lat: -22.8799736 | Lon: -43.2457223\nNeighbourhood: Maria da Gra\u00e7a | Lat: -22.8830403 | Lon: -43.2638849\nNeighbourhood: M\u00e9ier | Lat: -22.9026425 | Lon: -43.2817263\nNeighbourhood: Piedade | Lat: -22.4602254 | Lon: -42.6312398\nNeighbourhood: Pilares | Lat: -22.8790904 | Lon: -43.2955477\nNeighbourhood: Riachuelo | Lat: -22.9026953 | Lon: -43.255175\nNeighbourhood: Rocha | Lat: -22.8995624 | Lon: -43.2488072\nNeighbourhood: Sampaio | Lat: -22.9022287 | Lon: -43.2602402\nNeighbourhood: S\u00e3o Francisco Xavier | Lat: -22.9047617 | Lon: -43.2440314\nNeighbourhood: Todos os Santos | Lat: -22.894563 | Lon: -43.28506\nNeighbourhood: Bonsucesso | Lat: -22.8659317 | Lon: -43.253318\nNeighbourhood: Banc\u00e1rios | Lat: -22.7917588 | Lon: -43.180966\nNeighbourhood: Cacuia | Lat: -22.8217028 | Lon: -43.1837917\nNeighbourhood: Cidade Universit\u00e1ria | Lat: -22.8558233 | Lon: -43.2309583\nNeighbourhood: Cocot\u00e1 | Lat: -22.8050047 | Lon: -43.1805463\nNeighbourhood: Freguesia | Lat: -22.7850602 | Lon: -43.1694534\nNeighbourhood: Gale\u00e3o | Lat: -22.8075065 | Lon: -43.2355215\nNeighbourhood: Jardim Carioca | Lat: -22.8052493 | Lon: -43.1931949\nNeighbourhood: Jardim Guanabara | Lat: -22.8128362 | Lon: -43.2007792\nNeighbourhood: Mar\u00e9 | Lat: -22.8592368 | Lon: -43.2425729\nNeighbourhood: Moner\u00f3 | Lat: -22.7964947 | Lon: -43.197406\nNeighbourhood: Olaria | Lat: -22.8484866 | Lon: -43.2706124\nNeighbourhood: Pitangueiras | Lat: -22.8171281 | Lon: -43.1799542\nNeighbourhood: Portuguesa | Lat: -22.7999597 | Lon: -43.2068169\nNeighbourhood: Praia da Bandeira | Lat: -22.8104077 | Lon: -43.179895\nNeighbourhood: Ramos | Lat: -22.8519758 | Lon: -43.2555693\nNeighbourhood: Ribeira | Lat: -22.8252399 | Lon: -43.1705907\nNeighbourhood: Tau\u00e1 | Lat: -22.7977495 | Lon: -43.1867478\nNeighbourhood: Zumbi | Lat: -22.8212784 | Lon: -43.1758609\nNeighbourhood: Acari | Lat: -22.8221528 | Lon: -43.3406743\nNeighbourhood: Anchieta | Lat: -22.8231903 | Lon: -43.3991069\nNeighbourhood: Barros Filho | Lat: -22.8348857 | Lon: -43.3631878\nNeighbourhood: Bento Ribeiro | Lat: -22.8666607 | Lon: -43.3608367\nNeighbourhood: Br\u00e1s de Pina | Lat: -22.831888 | Lon: -43.2977309\nNeighbourhood: Campinho | Lat: -22.8852187 | Lon: -43.347738\nNeighbourhood: Cavalcanti | Lat: -22.8705266 | Lon: -43.3165261\nNeighbourhood: Cascadura | Lat: -22.8841816 | Lon: -43.3283969\nNeighbourhood: Coelho Neto | Lat: -22.8322449 | Lon: -43.3501913\nNeighbourhood: Col\u00e9gio | Lat: -22.83979 | Lon: -43.3357623\nNeighbourhood: Complexo do Alem\u00e3o | Lat: -22.8606097 | Lon: -43.2737506\nNeighbourhood: Cordovil | Lat: -22.8194378 | Lon: -43.2915908\nNeighbourhood: Costa Barros | Lat: -22.8246995 | Lon: -43.3698395\nNeighbourhood: Engenheiro Leal | Lat: -22.8743923 | Lon: -43.3255315\nNeighbourhood: Engenho da Rainha | Lat: -22.8626496 | Lon: -43.2937874\nNeighbourhood: Guadalupe | Lat: -22.8376208 | Lon: -43.3751608\nNeighbourhood: Hon\u00f3rio Gurgel | Lat: -22.8465751 | Lon: -43.3561294\nNeighbourhood: Inha\u00fama | Lat: -22.8715476 | Lon: -43.2823466\nNeighbourhood: Iraj\u00e1 | Lat: -22.8351129 | Lon: -43.3233619\nNeighbourhood: Jardim Am\u00e9rica | Lat: -22.810005 | Lon: -43.323212\nNeighbourhood: Madureira | Lat: -22.871658 | Lon: -43.3371976\nNeighbourhood: Marechal Hermes | Lat: -22.8599658 | Lon: -43.3704561\nNeighbourhood: Oswaldo Cruz | Lat: -22.8705266 | Lon: -43.350194\nNeighbourhood: Parada de Lucas | Lat: -22.8167023 | Lon: -43.3012102\nNeighbourhood: Parque Anchieta | Lat: -22.8351687 | Lon: -43.4155827\nNeighbourhood: Parque Col\u00fambia | Lat: -22.8153445 | Lon: -43.3356142107852\nNeighbourhood: Pavuna | Lat: -22.8121927 | Lon: -43.3592811\nNeighbourhood: Penha | Lat: -22.8381127 | Lon: -43.2764454\nNeighbourhood: Penha Circular | Lat: -22.8326425 | Lon: -43.2842228\nNeighbourhood: Quintino Bocaiuva | Lat: -22.8955889 | Lon: -43.3253269\nNeighbourhood: Ricardo de Albuquerque | Lat: -22.8380924 | Lon: -43.3963439\nNeighbourhood: Rocha Miranda | Lat: -22.8503472 | Lon: -43.3463053\nNeighbourhood: Tom\u00e1s Coelho | Lat: -22.8676979 | Lon: -43.3060881\nNeighbourhood: Turia\u00e7u | Lat: -22.8616631 | Lon: -43.3418026\nNeighbourhood: Vaz Lobo | Lat: -22.8589721 | Lon: -43.3278646\nNeighbourhood: Vicente de Carvalho | Lat: -22.8571804 | Lon: -43.3157892\nNeighbourhood: Vig\u00e1rio Geral | Lat: -22.8095333 | Lon: -43.3097039\nNeighbourhood: Vila da Penha | Lat: -22.8435065 | Lon: -43.3100585\nNeighbourhood: Vila Kosmos | Lat: -22.853597 | Lon: -43.3032021\nNeighbourhood: Vista Alegre | Lat: -22.8296244 | Lon: -43.3151276\n"
                }, 
                {
                    "execution_count": 136, 
                    "metadata": {}, 
                    "data": {
                        "text/html": "<div>\n<style scoped>\n    .dataframe tbody tr th:only-of-type {\n        vertical-align: middle;\n    }\n\n    .dataframe tbody tr th {\n        vertical-align: top;\n    }\n\n    .dataframe thead th {\n        text-align: right;\n    }\n</style>\n<table border=\"1\" class=\"dataframe\">\n  <thead>\n    <tr style=\"text-align: right;\">\n      <th></th>\n      <th>Latitude</th>\n      <th>Longitude</th>\n    </tr>\n  </thead>\n  <tbody>\n    <tr>\n      <th>0</th>\n      <td>-22.899318</td>\n      <td>-43.221935</td>\n    </tr>\n    <tr>\n      <th>1</th>\n      <td>-22.892297</td>\n      <td>-43.240341</td>\n    </tr>\n    <tr>\n      <th>2</th>\n      <td>-22.880306</td>\n      <td>-43.221494</td>\n    </tr>\n    <tr>\n      <th>3</th>\n      <td>-22.919662</td>\n      <td>-43.199064</td>\n    </tr>\n    <tr>\n      <th>4</th>\n      <td>-22.904393</td>\n      <td>-43.183065</td>\n    </tr>\n    <tr>\n      <th>5</th>\n      <td>-22.910051</td>\n      <td>-43.201756</td>\n    </tr>\n    <tr>\n      <th>6</th>\n      <td>-22.916626</td>\n      <td>-43.203630</td>\n    </tr>\n    <tr>\n      <th>7</th>\n      <td>-22.897749</td>\n      <td>-43.192904</td>\n    </tr>\n    <tr>\n      <th>8</th>\n      <td>-22.913026</td>\n      <td>-43.182236</td>\n    </tr>\n    <tr>\n      <th>9</th>\n      <td>-22.904153</td>\n      <td>-43.236497</td>\n    </tr>\n    <tr>\n      <th>10</th>\n      <td>-22.758926</td>\n      <td>-43.109199</td>\n    </tr>\n    <tr>\n      <th>11</th>\n      <td>-22.927945</td>\n      <td>-43.208857</td>\n    </tr>\n    <tr>\n      <th>12</th>\n      <td>-22.921399</td>\n      <td>-43.188214</td>\n    </tr>\n    <tr>\n      <th>13</th>\n      <td>-22.900766</td>\n      <td>-43.203393</td>\n    </tr>\n    <tr>\n      <th>14</th>\n      <td>-22.897184</td>\n      <td>-43.184154</td>\n    </tr>\n    <tr>\n      <th>15</th>\n      <td>-22.891522</td>\n      <td>-43.226720</td>\n    </tr>\n    <tr>\n      <th>16</th>\n      <td>-22.948845</td>\n      <td>-43.179829</td>\n    </tr>\n    <tr>\n      <th>17</th>\n      <td>-22.926920</td>\n      <td>-43.180219</td>\n    </tr>\n    <tr>\n      <th>18</th>\n      <td>-22.971964</td>\n      <td>-43.184343</td>\n    </tr>\n    <tr>\n      <th>19</th>\n      <td>-22.941514</td>\n      <td>-43.200624</td>\n    </tr>\n    <tr>\n      <th>20</th>\n      <td>-22.933984</td>\n      <td>-43.174574</td>\n    </tr>\n    <tr>\n      <th>21</th>\n      <td>-22.981424</td>\n      <td>-43.238324</td>\n    </tr>\n    <tr>\n      <th>22</th>\n      <td>-22.954641</td>\n      <td>-43.200480</td>\n    </tr>\n    <tr>\n      <th>23</th>\n      <td>-22.983956</td>\n      <td>-43.202216</td>\n    </tr>\n    <tr>\n      <th>24</th>\n      <td>-22.963636</td>\n      <td>-43.223346</td>\n    </tr>\n    <tr>\n      <th>25</th>\n      <td>-22.962466</td>\n      <td>-43.202488</td>\n    </tr>\n    <tr>\n      <th>26</th>\n      <td>-22.934317</td>\n      <td>-43.187816</td>\n    </tr>\n    <tr>\n      <th>27</th>\n      <td>-22.983556</td>\n      <td>-43.224938</td>\n    </tr>\n    <tr>\n      <th>28</th>\n      <td>-22.991359</td>\n      <td>-43.267533</td>\n    </tr>\n    <tr>\n      <th>29</th>\n      <td>-22.950443</td>\n      <td>-43.162345</td>\n    </tr>\n    <tr>\n      <th>...</th>\n      <td>...</td>\n      <td>...</td>\n    </tr>\n    <tr>\n      <th>125</th>\n      <td>-22.860610</td>\n      <td>-43.273751</td>\n    </tr>\n    <tr>\n      <th>126</th>\n      <td>-22.819438</td>\n      <td>-43.291591</td>\n    </tr>\n    <tr>\n      <th>127</th>\n      <td>-22.824700</td>\n      <td>-43.369839</td>\n    </tr>\n    <tr>\n      <th>128</th>\n      <td>-22.874392</td>\n      <td>-43.325531</td>\n    </tr>\n    <tr>\n      <th>129</th>\n      <td>-22.862650</td>\n      <td>-43.293787</td>\n    </tr>\n    <tr>\n      <th>130</th>\n      <td>-22.837621</td>\n      <td>-43.375161</td>\n    </tr>\n    <tr>\n      <th>131</th>\n      <td>-22.846575</td>\n      <td>-43.356129</td>\n    </tr>\n    <tr>\n      <th>132</th>\n      <td>-22.871548</td>\n      <td>-43.282347</td>\n    </tr>\n    <tr>\n      <th>133</th>\n      <td>-22.835113</td>\n      <td>-43.323362</td>\n    </tr>\n    <tr>\n      <th>134</th>\n      <td>-22.810005</td>\n      <td>-43.323212</td>\n    </tr>\n    <tr>\n      <th>135</th>\n      <td>-22.871658</td>\n      <td>-43.337198</td>\n    </tr>\n    <tr>\n      <th>136</th>\n      <td>-22.859966</td>\n      <td>-43.370456</td>\n    </tr>\n    <tr>\n      <th>137</th>\n      <td>-22.870527</td>\n      <td>-43.350194</td>\n    </tr>\n    <tr>\n      <th>138</th>\n      <td>-22.816702</td>\n      <td>-43.301210</td>\n    </tr>\n    <tr>\n      <th>139</th>\n      <td>-22.835169</td>\n      <td>-43.415583</td>\n    </tr>\n    <tr>\n      <th>140</th>\n      <td>-22.815344</td>\n      <td>-43.335614</td>\n    </tr>\n    <tr>\n      <th>141</th>\n      <td>-22.812193</td>\n      <td>-43.359281</td>\n    </tr>\n    <tr>\n      <th>142</th>\n      <td>-22.838113</td>\n      <td>-43.276445</td>\n    </tr>\n    <tr>\n      <th>143</th>\n      <td>-22.832642</td>\n      <td>-43.284223</td>\n    </tr>\n    <tr>\n      <th>144</th>\n      <td>-22.895589</td>\n      <td>-43.325327</td>\n    </tr>\n    <tr>\n      <th>145</th>\n      <td>-22.838092</td>\n      <td>-43.396344</td>\n    </tr>\n    <tr>\n      <th>146</th>\n      <td>-22.850347</td>\n      <td>-43.346305</td>\n    </tr>\n    <tr>\n      <th>147</th>\n      <td>-22.867698</td>\n      <td>-43.306088</td>\n    </tr>\n    <tr>\n      <th>148</th>\n      <td>-22.861663</td>\n      <td>-43.341803</td>\n    </tr>\n    <tr>\n      <th>149</th>\n      <td>-22.858972</td>\n      <td>-43.327865</td>\n    </tr>\n    <tr>\n      <th>150</th>\n      <td>-22.857180</td>\n      <td>-43.315789</td>\n    </tr>\n    <tr>\n      <th>151</th>\n      <td>-22.809533</td>\n      <td>-43.309704</td>\n    </tr>\n    <tr>\n      <th>152</th>\n      <td>-22.843507</td>\n      <td>-43.310058</td>\n    </tr>\n    <tr>\n      <th>153</th>\n      <td>-22.853597</td>\n      <td>-43.303202</td>\n    </tr>\n    <tr>\n      <th>154</th>\n      <td>-22.829624</td>\n      <td>-43.315128</td>\n    </tr>\n  </tbody>\n</table>\n<p>155 rows \u00d7 2 columns</p>\n</div>", 
                        "text/plain": "      Latitude  Longitude\n0   -22.899318 -43.221935\n1   -22.892297 -43.240341\n2   -22.880306 -43.221494\n3   -22.919662 -43.199064\n4   -22.904393 -43.183065\n5   -22.910051 -43.201756\n6   -22.916626 -43.203630\n7   -22.897749 -43.192904\n8   -22.913026 -43.182236\n9   -22.904153 -43.236497\n10  -22.758926 -43.109199\n11  -22.927945 -43.208857\n12  -22.921399 -43.188214\n13  -22.900766 -43.203393\n14  -22.897184 -43.184154\n15  -22.891522 -43.226720\n16  -22.948845 -43.179829\n17  -22.926920 -43.180219\n18  -22.971964 -43.184343\n19  -22.941514 -43.200624\n20  -22.933984 -43.174574\n21  -22.981424 -43.238324\n22  -22.954641 -43.200480\n23  -22.983956 -43.202216\n24  -22.963636 -43.223346\n25  -22.962466 -43.202488\n26  -22.934317 -43.187816\n27  -22.983556 -43.224938\n28  -22.991359 -43.267533\n29  -22.950443 -43.162345\n..         ...        ...\n125 -22.860610 -43.273751\n126 -22.819438 -43.291591\n127 -22.824700 -43.369839\n128 -22.874392 -43.325531\n129 -22.862650 -43.293787\n130 -22.837621 -43.375161\n131 -22.846575 -43.356129\n132 -22.871548 -43.282347\n133 -22.835113 -43.323362\n134 -22.810005 -43.323212\n135 -22.871658 -43.337198\n136 -22.859966 -43.370456\n137 -22.870527 -43.350194\n138 -22.816702 -43.301210\n139 -22.835169 -43.415583\n140 -22.815344 -43.335614\n141 -22.812193 -43.359281\n142 -22.838113 -43.276445\n143 -22.832642 -43.284223\n144 -22.895589 -43.325327\n145 -22.838092 -43.396344\n146 -22.850347 -43.346305\n147 -22.867698 -43.306088\n148 -22.861663 -43.341803\n149 -22.858972 -43.327865\n150 -22.857180 -43.315789\n151 -22.809533 -43.309704\n152 -22.843507 -43.310058\n153 -22.853597 -43.303202\n154 -22.829624 -43.315128\n\n[155 rows x 2 columns]"
                    }, 
                    "output_type": "execute_result"
                }
            ], 
            "source": "#import time\naddress = 'Rio de Janeiro, RJ, Brasil'\n\ngeolocator = Nominatim(user_agent=\"rio_explorer\")\n\ndf_latlon = pd.DataFrame(columns=column_names[2:])\n\nfor idx, neig in enumerate(df_neigh1['Neighbourhood']):\n    location = None\n    while(location is None):\n        location = geolocator.geocode('{}, {}'.format(neig, address))\n        #location = geocoder.locationiq('{}, {}'.format(neig, address), key=LOCATIONIQ_TOKEN)\n\n        if(location is None):\n            print('Error gathering data for {}'.format(neig))\n            break\n            #continue\n        latitude = location.latitude\n        longitude = location.longitude\n        print('Neighbourhood: {} | Lat: {} | Lon: {}'.format(neig, latitude, longitude))\n        df_latlon = df_latlon.append(\n            pd.DataFrame({'Latitude':[latitude], 'Longitude':[longitude]}, \\\n                  columns=column_names[2:]), ignore_index=True)\n        #df_latlon.iloc[idx]['Latitude'] = latitude\n        #df_latlon.iloc[idx]['Longitude'] = longitude\n        #time.sleep(0.6)\n\ndf_latlon"
        }, 
        {
            "execution_count": 121, 
            "cell_type": "code", 
            "metadata": {}, 
            "outputs": [
                {
                    "execution_count": 121, 
                    "metadata": {}, 
                    "data": {
                        "text/html": "<div>\n<style scoped>\n    .dataframe tbody tr th:only-of-type {\n        vertical-align: middle;\n    }\n\n    .dataframe tbody tr th {\n        vertical-align: top;\n    }\n\n    .dataframe thead th {\n        text-align: right;\n    }\n</style>\n<table border=\"1\" class=\"dataframe\">\n  <thead>\n    <tr style=\"text-align: right;\">\n      <th></th>\n      <th>Zone</th>\n      <th>Neighbourhood</th>\n      <th>Latitude</th>\n      <th>Longitude</th>\n    </tr>\n  </thead>\n  <tbody>\n    <tr>\n      <th>0</th>\n      <td>Central</td>\n      <td>Bairro Imperial de S\u00e3o Crist\u00f3v\u00e3o</td>\n      <td>0.0</td>\n      <td>0.0</td>\n    </tr>\n    <tr>\n      <th>1</th>\n      <td>Central</td>\n      <td>Benfica</td>\n      <td>0.0</td>\n      <td>0.0</td>\n    </tr>\n    <tr>\n      <th>2</th>\n      <td>Central</td>\n      <td>Caju</td>\n      <td>0.0</td>\n      <td>0.0</td>\n    </tr>\n    <tr>\n      <th>3</th>\n      <td>Central</td>\n      <td>Catumbi</td>\n      <td>0.0</td>\n      <td>0.0</td>\n    </tr>\n    <tr>\n      <th>4</th>\n      <td>Central</td>\n      <td>Centro</td>\n      <td>0.0</td>\n      <td>0.0</td>\n    </tr>\n  </tbody>\n</table>\n</div>", 
                        "text/plain": "      Zone                     Neighbourhood  Latitude  Longitude\n0  Central  Bairro Imperial de S\u00e3o Crist\u00f3v\u00e3o       0.0        0.0\n1  Central                           Benfica       0.0        0.0\n2  Central                              Caju       0.0        0.0\n3  Central                           Catumbi       0.0        0.0\n4  Central                            Centro       0.0        0.0"
                    }, 
                    "output_type": "execute_result"
                }
            ], 
            "source": "df_neigh1.head()"
        }, 
        {
            "execution_count": 3, 
            "cell_type": "code", 
            "metadata": {
                "scrolled": true
            }, 
            "outputs": [
                {
                    "ename": "SyntaxError", 
                    "evalue": "invalid character in identifier (<ipython-input-3-bb972934eae2>, line 1)", 
                    "traceback": [
                        "\u001b[0;36m  File \u001b[0;32m\"<ipython-input-3-bb972934eae2>\"\u001b[0;36m, line \u001b[0;32m1\u001b[0m\n\u001b[0;31m    r = requests.get(\u2018http://api.foursquare.com/v2/venues/search?ll=-22.88,-43.22\u2019)\u001b[0m\n\u001b[0m                         ^\u001b[0m\n\u001b[0;31mSyntaxError\u001b[0m\u001b[0;31m:\u001b[0m invalid character in identifier\n"
                    ], 
                    "output_type": "error"
                }
            ], 
            "source": "r = requests.get(\u2018https://api.foursquare.com/v2/venues/search?ll=-22.88,-43.22\u2019)"
        }, 
        {
            "execution_count": null, 
            "cell_type": "code", 
            "metadata": {}, 
            "outputs": [], 
            "source": ""
        }
    ], 
    "metadata": {
        "kernelspec": {
            "display_name": "Python 3.6", 
            "name": "python3", 
            "language": "python"
        }, 
        "language_info": {
            "mimetype": "text/x-python", 
            "nbconvert_exporter": "python", 
            "version": "3.6.8", 
            "name": "python", 
            "file_extension": ".py", 
            "pygments_lexer": "ipython3", 
            "codemirror_mode": {
                "version": 3, 
                "name": "ipython"
            }
        }
    }, 
    "nbformat": 4
}